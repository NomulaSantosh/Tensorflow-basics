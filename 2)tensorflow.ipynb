{
  "cells": [
    {
      "cell_type": "markdown",
      "id": "0d0be0ba",
      "metadata": {
        "id": "0d0be0ba"
      },
      "source": [
        "shuffle the order of the elements in the tensor"
      ]
    },
    {
      "cell_type": "code",
      "execution_count": 1,
      "id": "d193a88d",
      "metadata": {
        "id": "d193a88d"
      },
      "outputs": [],
      "source": [
        "import tensorflow as tf"
      ]
    },
    {
      "cell_type": "code",
      "execution_count": 2,
      "id": "9c48e2db",
      "metadata": {
        "colab": {
          "base_uri": "https://localhost:8080/"
        },
        "id": "9c48e2db",
        "outputId": "31ae4ff7-6236-4ccc-eab0-84906653da82"
      },
      "outputs": [
        {
          "data": {
            "text/plain": [
              "2"
            ]
          },
          "execution_count": 2,
          "metadata": {},
          "output_type": "execute_result"
        }
      ],
      "source": [
        "#shuffle a tensor (Valuable for when you want to shuffle your data so the inherint order doesn't effect learning)\n",
        "not_shuffled = tf.constant([[10, 7],\n",
        "                            [3, 4],\n",
        "                            [2, 5]])\n",
        "not_shuffled.ndim"
      ]
    },
    {
      "cell_type": "code",
      "execution_count": 3,
      "id": "8cdd4090",
      "metadata": {
        "colab": {
          "base_uri": "https://localhost:8080/"
        },
        "id": "8cdd4090",
        "outputId": "62cfc727-a1fd-4d5a-9ae6-828edfb35916"
      },
      "outputs": [
        {
          "data": {
            "text/plain": [
              "<tf.Tensor: shape=(3, 2), dtype=int32, numpy=\n",
              "array([[10,  7],\n",
              "       [ 3,  4],\n",
              "       [ 2,  5]])>"
            ]
          },
          "execution_count": 3,
          "metadata": {},
          "output_type": "execute_result"
        }
      ],
      "source": [
        "not_shuffled"
      ]
    },
    {
      "cell_type": "code",
      "execution_count": 4,
      "id": "8b4d469a",
      "metadata": {
        "colab": {
          "base_uri": "https://localhost:8080/"
        },
        "id": "8b4d469a",
        "outputId": "d3cfdea9-bb70-44b9-f6be-e93849c5f06a"
      },
      "outputs": [
        {
          "data": {
            "text/plain": [
              "<tf.Tensor: shape=(3, 2), dtype=int32, numpy=\n",
              "array([[10,  7],\n",
              "       [ 2,  5],\n",
              "       [ 3,  4]])>"
            ]
          },
          "execution_count": 4,
          "metadata": {},
          "output_type": "execute_result"
        }
      ],
      "source": [
        "# shuffling the tensorflow (not-shuffled)\n",
        "tf.random.shuffle(not_shuffled)# now the order will change"
      ]
    },
    {
      "cell_type": "code",
      "execution_count": 5,
      "id": "bf61c73a",
      "metadata": {
        "colab": {
          "base_uri": "https://localhost:8080/"
        },
        "id": "bf61c73a",
        "outputId": "c5617a79-7866-489a-e456-4e962fa33f01"
      },
      "outputs": [
        {
          "data": {
            "text/plain": [
              "<tf.Tensor: shape=(3, 2), dtype=int32, numpy=\n",
              "array([[ 2,  5],\n",
              "       [10,  7],\n",
              "       [ 3,  4]])>"
            ]
          },
          "execution_count": 5,
          "metadata": {},
          "output_type": "execute_result"
        }
      ],
      "source": [
        "# shuffling the tensorflow (not-shuffled)\n",
        "tf.random.shuffle(not_shuffled)# now the order will change again"
      ]
    },
    {
      "cell_type": "code",
      "execution_count": 6,
      "id": "2a0d2103",
      "metadata": {
        "colab": {
          "base_uri": "https://localhost:8080/"
        },
        "id": "2a0d2103",
        "outputId": "55434d27-cddb-4582-ffce-176ea2af8bc3"
      },
      "outputs": [
        {
          "data": {
            "text/plain": [
              "<tf.Tensor: shape=(3, 2), dtype=int32, numpy=\n",
              "array([[ 2,  5],\n",
              "       [ 3,  4],\n",
              "       [10,  7]])>"
            ]
          },
          "execution_count": 6,
          "metadata": {},
          "output_type": "execute_result"
        }
      ],
      "source": [
        "# shuffling the tensorflow (not-shuffled)\n",
        "tf.random.shuffle(not_shuffled, seed = 42)# now the order will change"
      ]
    },
    {
      "cell_type": "code",
      "execution_count": 7,
      "id": "91965acc",
      "metadata": {
        "colab": {
          "base_uri": "https://localhost:8080/"
        },
        "id": "91965acc",
        "outputId": "19dd4eac-1c3f-459c-a2ea-993d02408267"
      },
      "outputs": [
        {
          "data": {
            "text/plain": [
              "<tf.Tensor: shape=(3, 2), dtype=int32, numpy=\n",
              "array([[10,  7],\n",
              "       [ 3,  4],\n",
              "       [ 2,  5]])>"
            ]
          },
          "execution_count": 7,
          "metadata": {},
          "output_type": "execute_result"
        }
      ],
      "source": [
        "tf.random.set_seed(42)#here set_seed is global level seed.second step has operation-level seed\n",
        "tf.random.shuffle(not_shuffled, seed =42)#now here how many times we run it is not shuffled bcoz it has global and operatonal-level seeds"
      ]
    },
    {
      "cell_type": "markdown",
      "id": "0bbc011b",
      "metadata": {
        "id": "0bbc011b"
      },
      "source": [
        "Exercise : Read through tensorflow documentation on random seed generation https://www.tensorflow.org/api_docs/python/tf/random/set_seed and practice writing 5 random tensors and shuffle them"
      ]
    },
    {
      "cell_type": "markdown",
      "id": "891d1d31",
      "metadata": {
        "id": "891d1d31"
      },
      "source": [
        "Operations that rely on a random seed actually derive it from two seeds: the global and operation-level seeds. This sets the global seed.\n",
        "\n",
        "Its interactions with operation-level seeds is as follows:\n",
        "\n",
        "If neither the global seed nor the operation seed is set: A randomly picked seed is used for this op.\n",
        "If the global seed is set, but the operation seed is not: The system deterministically picks an operation seed in conjunction with the global seed so that it gets a unique random sequence. Within the same version of tensorflow and user code, this sequence is deterministic. However across different versions, this sequence might change. If the code depends on particular seeds to work, specify both global and operation-level seeds explicitly.\n",
        "If the operation seed is set, but the global seed is not set: A default global seed and the specified operation seed are used to determine the random sequence.\n",
        "If both the global and the operation seed are set: Both seeds are used in conjunction to determine the random sequence.\n",
        "To illustrate the user-visible effects, consider these examples:\n",
        "\n",
        "If neither the global seed nor the operation seed is set, we get different results for every call to the random op and every re-run of the program:\n",
        "\n",
        "\n",
        "print(tf.random.uniform([1]))  # generates 'A1'\n",
        "print(tf.random.uniform([1]))  # generates 'A2'\n",
        "(now close the program and run it again)\n",
        "\n",
        "\n",
        "print(tf.random.uniform([1]))  # generates 'A3'\n",
        "print(tf.random.uniform([1]))  # generates 'A4'\n",
        "\n",
        "\n",
        "If the global seed is set but the operation seed is not set, we get different results for every call to the random op, but the same sequence for every re-run of the program:\n",
        "\n",
        "\n",
        "tf.random.set_seed(1234)\n",
        "print(tf.random.uniform([1]))  # generates 'A1'\n",
        "print(tf.random.uniform([1]))  # generates 'A2'\n",
        "(now close the program and run it again)\n",
        "\n",
        "\n",
        "tf.random.set_seed(1234)\n",
        "print(tf.random.uniform([1]))  # generates 'A1'\n",
        "print(tf.random.uniform([1]))  # generates 'A2'\n",
        "\n",
        "\n",
        "The reason we get 'A2' instead 'A1' on the second call of tf.random.uniform above is because the second call uses a different operation seed.\n",
        "\n",
        "Note that tf.function acts like a re-run of a program in this case. When the global seed is set but operation seeds are not set, the sequence of random numbers are the same for each tf.function. For example:\n",
        "\n",
        "\n",
        "tf.random.set_seed(1234)\n",
        "\n",
        "@tf.function\n",
        "def f():\n",
        "  a = tf.random.uniform([1])\n",
        "  b = tf.random.uniform([1])\n",
        "  return a, b\n",
        "\n",
        "@tf.function\n",
        "def g():\n",
        "  a = tf.random.uniform([1])\n",
        "  b = tf.random.uniform([1])\n",
        "  return a, b\n",
        "\n",
        "print(f())  # prints '(A1, A2)'\n",
        "print(g())  # prints '(A1, A2)'\n",
        "\n",
        "\n",
        "If the operation seed is set, we get different results for every call to the random op, but the same sequence for every re-run of the program:\n",
        "\n",
        "\n",
        "print(tf.random.uniform([1], seed=1))  # generates 'A1'\n",
        "print(tf.random.uniform([1], seed=1))  # generates 'A2'\n",
        "(now close the program and run it again)\n",
        "\n",
        "\n",
        "print(tf.random.uniform([1], seed=1))  # generates 'A1'\n",
        "print(tf.random.uniform([1], seed=1))  # generates 'A2'\n",
        "\n",
        "\n",
        "The reason we get 'A2' instead 'A1' on the second call of tf.random.uniform above is because the same tf.random.uniform kernel (i.e. internal representation) is used by TensorFlow for all calls of it with the same arguments, and the kernel maintains an internal counter which is incremented every time it is executed, generating different results.\n",
        "\n",
        "\n",
        "Calling tf.random.set_seed will reset any such counters:\n",
        "\n",
        "\n",
        "tf.random.set_seed(1234)\n",
        "print(tf.random.uniform([1], seed=1))  # generates 'A1'\n",
        "print(tf.random.uniform([1], seed=1))  # generates 'A2'\n",
        "tf.random.set_seed(1234)\n",
        "print(tf.random.uniform([1], seed=1))  # generates 'A1'\n",
        "print(tf.random.uniform([1], seed=1))  # generates 'A2'\n",
        "\n",
        "When multiple identical random ops are wrapped in a tf.function, their behaviors change because the ops no long share the same counter. For example:\n",
        "\n",
        "\n",
        "@tf.function\n",
        "def foo():\n",
        "  a = tf.random.uniform([1], seed=1)\n",
        "  b = tf.random.uniform([1], seed=1)\n",
        "  return a, b\n",
        "print(foo())  # prints '(A1, A1)'\n",
        "print(foo())  # prints '(A2, A2)'\n",
        "\n",
        "@tf.function\n",
        "def bar():\n",
        "  a = tf.random.uniform([1])\n",
        "  b = tf.random.uniform([1])\n",
        "  return a, b\n",
        "print(bar())  # prints '(A1, A2)'\n",
        "print(bar())  # prints '(A3, A4)'\n",
        "\n",
        "\n",
        "The second call of foo returns '(A2, A2)' instead of '(A1, A1)' because tf.random.uniform maintains an internal counter. If you want foo to return '(A1, A1)' every time, use the stateless random ops such as tf.random.stateless_uniform. Also see tf.random.experimental.Generator for a new set of stateful random ops that use external variables to manage their states."
      ]
    },
    {
      "cell_type": "code",
      "execution_count": 8,
      "id": "b081c0f2",
      "metadata": {
        "colab": {
          "base_uri": "https://localhost:8080/"
        },
        "id": "b081c0f2",
        "outputId": "8dfb5419-992a-47b9-cbac-9f7be63da5c5"
      },
      "outputs": [
        {
          "data": {
            "text/plain": [
              "<tf.Tensor: shape=(4, 4), dtype=float32, numpy=\n",
              "array([[-0.29604465, -0.21134205,  0.01063002,  1.5165398 ],\n",
              "       [-1.3240396 ,  0.28785667, -0.8757901 , -0.08857018],\n",
              "       [ 0.69211644,  0.84215707, -0.06378496,  0.92800784],\n",
              "       [-0.6039789 , -0.1766927 ,  0.04221033,  0.29037967]],\n",
              "      dtype=float32)>"
            ]
          },
          "execution_count": 8,
          "metadata": {},
          "output_type": "execute_result"
        }
      ],
      "source": [
        "random_1 = tf.random.Generator.from_seed(7)\n",
        "random_1 = random_1.normal(shape = (4,4))\n",
        "tf.random.shuffle(random_1)"
      ]
    },
    {
      "cell_type": "code",
      "execution_count": 9,
      "id": "08e8301a",
      "metadata": {
        "colab": {
          "base_uri": "https://localhost:8080/"
        },
        "id": "08e8301a",
        "outputId": "d8adf677-1d78-45cb-ec45-663e5009ffb6"
      },
      "outputs": [
        {
          "data": {
            "text/plain": [
              "<tf.Tensor: shape=(4, 4), dtype=float32, numpy=\n",
              "array([[-0.6039789 , -0.1766927 ,  0.04221033,  0.29037967],\n",
              "       [-1.3240396 ,  0.28785667, -0.8757901 , -0.08857018],\n",
              "       [-0.29604465, -0.21134205,  0.01063002,  1.5165398 ],\n",
              "       [ 0.69211644,  0.84215707, -0.06378496,  0.92800784]],\n",
              "      dtype=float32)>"
            ]
          },
          "execution_count": 9,
          "metadata": {},
          "output_type": "execute_result"
        }
      ],
      "source": [
        "tf.random.shuffle(random_1)"
      ]
    },
    {
      "cell_type": "code",
      "execution_count": 10,
      "id": "1d9b4a66",
      "metadata": {
        "colab": {
          "base_uri": "https://localhost:8080/"
        },
        "id": "1d9b4a66",
        "outputId": "e8eec8b9-1ef0-4957-ff24-a49964550c2c"
      },
      "outputs": [
        {
          "name": "stdout",
          "output_type": "stream",
          "text": [
            "tf.Tensor(\n",
            "[[0.5380393  0.36461866]\n",
            " [0.5816301  0.24382842]], shape=(2, 2), dtype=float32)\n"
          ]
        }
      ],
      "source": [
        "tf.random.set_seed(1234)\n",
        "print(tf.random.uniform([2,2])) "
      ]
    },
    {
      "cell_type": "code",
      "execution_count": 11,
      "id": "800ea9e7",
      "metadata": {
        "colab": {
          "base_uri": "https://localhost:8080/"
        },
        "id": "800ea9e7",
        "outputId": "2628d90a-cd13-4a35-9f08-0dbb665b08cc"
      },
      "outputs": [
        {
          "name": "stdout",
          "output_type": "stream",
          "text": [
            "(<tf.Tensor: shape=(2, 2), dtype=float32, numpy=\n",
            "array([[0.5380393 , 0.36461866],\n",
            "       [0.5816301 , 0.24382842]], dtype=float32)>, <tf.Tensor: shape=(1,), dtype=float32, numpy=array([0.59750986], dtype=float32)>)\n",
            "(<tf.Tensor: shape=(2, 2), dtype=float32, numpy=\n",
            "array([[0.9099175 , 0.6676756 ],\n",
            "       [0.19938636, 0.3284049 ]], dtype=float32)>, <tf.Tensor: shape=(1,), dtype=float32, numpy=array([0.3780992], dtype=float32)>)\n"
          ]
        }
      ],
      "source": [
        "tf.random.set_seed(1234)\n",
        "\n",
        "tf.function\n",
        "def f():\n",
        "  a = tf.random.uniform([2,2])\n",
        "  tf.random.shuffle(a)\n",
        "  b = tf.random.uniform([1])\n",
        "  return a, b\n",
        "\n",
        "tf.function\n",
        "def g():\n",
        "  a = tf.random.uniform([2,2])\n",
        "  tf.random.shuffle(a)\n",
        "  b = tf.random.uniform([1])\n",
        "  return a, b\n",
        "\n",
        "print(f())  # prints '(A1, A2)'\n",
        "print(g())  # prints '(A1, A2)'"
      ]
    },
    {
      "cell_type": "markdown",
      "id": "ea7a045b",
      "metadata": {
        "id": "ea7a045b"
      },
      "source": [
        "It looks like if we want our random_1 tensors to be in same order we've\n",
        "got use the global level and as well as operation level random seed.\n",
        "\n",
        "Rule 4: If both the global and the operation seed are set: Both seeds are used in conjunction to determine the random seq"
      ]
    },
    {
      "cell_type": "code",
      "execution_count": 12,
      "id": "274a2adb",
      "metadata": {
        "colab": {
          "base_uri": "https://localhost:8080/"
        },
        "id": "274a2adb",
        "outputId": "9add815b-f470-4582-fe77-bdbf5d9c1c01"
      },
      "outputs": [
        {
          "data": {
            "text/plain": [
              "<tf.Tensor: shape=(4, 4), dtype=float32, numpy=\n",
              "array([[ 0.69211644,  0.84215707, -0.06378496,  0.92800784],\n",
              "       [-0.6039789 , -0.1766927 ,  0.04221033,  0.29037967],\n",
              "       [-1.3240396 ,  0.28785667, -0.8757901 , -0.08857018],\n",
              "       [-0.29604465, -0.21134205,  0.01063002,  1.5165398 ]],\n",
              "      dtype=float32)>"
            ]
          },
          "execution_count": 12,
          "metadata": {},
          "output_type": "execute_result"
        }
      ],
      "source": [
        "tf.random.set_seed(42) # global level random seed\n",
        "tf.random.shuffle(random_1, seed = 42) # operation level random seed"
      ]
    },
    {
      "cell_type": "markdown",
      "id": "e8fff12b",
      "metadata": {
        "id": "e8fff12b"
      },
      "source": [
        "# Other ways to make tensors"
      ]
    },
    {
      "cell_type": "markdown",
      "id": "34250f25",
      "metadata": {
        "id": "34250f25"
      },
      "source": [
        "https://www.tensorflow.org/api_docs/python/tf/ones"
      ]
    },
    {
      "cell_type": "code",
      "execution_count": 13,
      "id": "b286a616",
      "metadata": {
        "colab": {
          "base_uri": "https://localhost:8080/"
        },
        "id": "b286a616",
        "outputId": "fada6d34-4736-4695-93e6-40902091b9f5"
      },
      "outputs": [
        {
          "data": {
            "text/plain": [
              "<tf.Tensor: shape=(10, 7), dtype=float32, numpy=\n",
              "array([[1., 1., 1., 1., 1., 1., 1.],\n",
              "       [1., 1., 1., 1., 1., 1., 1.],\n",
              "       [1., 1., 1., 1., 1., 1., 1.],\n",
              "       [1., 1., 1., 1., 1., 1., 1.],\n",
              "       [1., 1., 1., 1., 1., 1., 1.],\n",
              "       [1., 1., 1., 1., 1., 1., 1.],\n",
              "       [1., 1., 1., 1., 1., 1., 1.],\n",
              "       [1., 1., 1., 1., 1., 1., 1.],\n",
              "       [1., 1., 1., 1., 1., 1., 1.],\n",
              "       [1., 1., 1., 1., 1., 1., 1.]], dtype=float32)>"
            ]
          },
          "execution_count": 13,
          "metadata": {},
          "output_type": "execute_result"
        }
      ],
      "source": [
        "# create a tensor of all ones\n",
        "tf.ones(shape = [10, 7])"
      ]
    },
    {
      "cell_type": "code",
      "execution_count": 14,
      "id": "bf24a9a9",
      "metadata": {
        "colab": {
          "base_uri": "https://localhost:8080/"
        },
        "id": "bf24a9a9",
        "outputId": "35b02539-7936-4137-dda4-51a90f886732"
      },
      "outputs": [
        {
          "data": {
            "text/plain": [
              "<tf.Tensor: shape=(3, 5), dtype=float32, numpy=\n",
              "array([[0., 0., 0., 0., 0.],\n",
              "       [0., 0., 0., 0., 0.],\n",
              "       [0., 0., 0., 0., 0.]], dtype=float32)>"
            ]
          },
          "execution_count": 14,
          "metadata": {},
          "output_type": "execute_result"
        }
      ],
      "source": [
        "# create a tensor of all zero's \n",
        "\n",
        "tf.zeros(shape = (3,5))"
      ]
    },
    {
      "cell_type": "markdown",
      "id": "98bcb604",
      "metadata": {
        "id": "98bcb604"
      },
      "source": [
        "### Turn Numpy arrays into tensors\n",
        "\n",
        "The main difference between Numpy arrays and tensorflow tensors is that tensors can be run on a Gpu (much faster fornumerical computing)"
      ]
    },
    {
      "cell_type": "markdown",
      "id": "625f196a",
      "metadata": {
        "id": "625f196a"
      },
      "source": [
        "tf.constant(\n",
        "    value, dtype=None, shape=None, name='Const')\n",
        "\n",
        "\n",
        "value:\n",
        "A constant value (or list) of output type dtype.\n",
        "dtype:\n",
        "The type of the elements of the resulting tensor.\n",
        "shape:\n",
        "Optional dimensions of resulting tensor.\n",
        "name:\n",
        "Optional name for the tensor.\n",
        "\n",
        "\n",
        "Returns:\n",
        "A Constant Tensor.\n",
        "Raises:\n",
        "TypeError\n",
        "\n",
        "if shape is incorrectly specified or unsupported.:\n",
        "ValueError:\n",
        "if called on a symbolic tensor."
      ]
    },
    {
      "cell_type": "code",
      "execution_count": 15,
      "id": "e7ba4d93",
      "metadata": {
        "colab": {
          "base_uri": "https://localhost:8080/"
        },
        "id": "e7ba4d93",
        "outputId": "dc987be3-d427-4923-a9c1-cdd7e3142dbb"
      },
      "outputs": [
        {
          "data": {
            "text/plain": [
              "array([ 1,  2,  3,  4,  5,  6,  7,  8,  9, 10, 11, 12, 13, 14, 15, 16, 17,\n",
              "       18, 19, 20, 21, 22, 23, 24])"
            ]
          },
          "execution_count": 15,
          "metadata": {},
          "output_type": "execute_result"
        }
      ],
      "source": [
        "# You can also convert numpy arrays to tensors\n",
        "\n",
        "import numpy as np\n",
        "\n",
        "numpy_A = np.arange(1, 25, dtype = np.int32) # create a numpy array b/w 1 to 25\n",
        "numpy_A\n",
        "#X = tf.constant(some_matrix) # capital for matrix or tensors (numpy_A)\n",
        "#y = tf.constant(vector) # non capital for vectors (numpy_a)"
      ]
    },
    {
      "cell_type": "code",
      "execution_count": 16,
      "id": "da12e40a",
      "metadata": {
        "colab": {
          "base_uri": "https://localhost:8080/"
        },
        "id": "da12e40a",
        "outputId": "f1ea6b7a-8205-4bfc-f1ce-01dbdf11b2ec"
      },
      "outputs": [
        {
          "data": {
            "text/plain": [
              "<tf.Tensor: shape=(24,), dtype=int32, numpy=\n",
              "array([ 1,  2,  3,  4,  5,  6,  7,  8,  9, 10, 11, 12, 13, 14, 15, 16, 17,\n",
              "       18, 19, 20, 21, 22, 23, 24])>"
            ]
          },
          "execution_count": 16,
          "metadata": {},
          "output_type": "execute_result"
        }
      ],
      "source": [
        "A = tf.constant(numpy_A)\n",
        "A # here it was converted numpy array to tensors"
      ]
    },
    {
      "cell_type": "code",
      "execution_count": 17,
      "id": "864c5346",
      "metadata": {
        "id": "864c5346"
      },
      "outputs": [],
      "source": [
        "A = tf.constant(numpy_A, shape = (2, 3, 4)) #(2 *3 *4) = 24\n",
        "B = tf.constant(numpy_A)"
      ]
    },
    {
      "cell_type": "code",
      "execution_count": 18,
      "id": "e974b2a7",
      "metadata": {
        "colab": {
          "base_uri": "https://localhost:8080/"
        },
        "id": "e974b2a7",
        "outputId": "4d452463-7296-45c1-bfe7-73f269a854e5"
      },
      "outputs": [
        {
          "data": {
            "text/plain": [
              "(<tf.Tensor: shape=(2, 3, 4), dtype=int32, numpy=\n",
              " array([[[ 1,  2,  3,  4],\n",
              "         [ 5,  6,  7,  8],\n",
              "         [ 9, 10, 11, 12]],\n",
              " \n",
              "        [[13, 14, 15, 16],\n",
              "         [17, 18, 19, 20],\n",
              "         [21, 22, 23, 24]]])>,\n",
              " <tf.Tensor: shape=(24,), dtype=int32, numpy=\n",
              " array([ 1,  2,  3,  4,  5,  6,  7,  8,  9, 10, 11, 12, 13, 14, 15, 16, 17,\n",
              "        18, 19, 20, 21, 22, 23, 24])>)"
            ]
          },
          "execution_count": 18,
          "metadata": {},
          "output_type": "execute_result"
        }
      ],
      "source": [
        "A,  B"
      ]
    },
    {
      "cell_type": "code",
      "execution_count": 19,
      "id": "0522c221",
      "metadata": {
        "colab": {
          "base_uri": "https://localhost:8080/"
        },
        "id": "0522c221",
        "outputId": "542bea84-5623-4468-a708-722f6ba18f22"
      },
      "outputs": [
        {
          "data": {
            "text/plain": [
              "(<tf.Tensor: shape=(4, 6), dtype=int32, numpy=\n",
              " array([[ 1,  2,  3,  4,  5,  6],\n",
              "        [ 7,  8,  9, 10, 11, 12],\n",
              "        [13, 14, 15, 16, 17, 18],\n",
              "        [19, 20, 21, 22, 23, 24]])>,\n",
              " <tf.Tensor: shape=(24,), dtype=int32, numpy=\n",
              " array([ 1,  2,  3,  4,  5,  6,  7,  8,  9, 10, 11, 12, 13, 14, 15, 16, 17,\n",
              "        18, 19, 20, 21, 22, 23, 24])>)"
            ]
          },
          "execution_count": 19,
          "metadata": {},
          "output_type": "execute_result"
        }
      ],
      "source": [
        "A = tf.constant(numpy_A, shape = (4,6)) #(4 * 6) = 24\n",
        "B = tf.constant(numpy_A)\n",
        "\n",
        "A,  B"
      ]
    },
    {
      "cell_type": "code",
      "execution_count": 20,
      "id": "ead15c3c",
      "metadata": {
        "colab": {
          "base_uri": "https://localhost:8080/"
        },
        "id": "ead15c3c",
        "outputId": "b7d3c99a-1992-4927-a51d-f98c91cd2cb3"
      },
      "outputs": [
        {
          "data": {
            "text/plain": [
              "2"
            ]
          },
          "execution_count": 20,
          "metadata": {},
          "output_type": "execute_result"
        }
      ],
      "source": [
        "A.ndim"
      ]
    },
    {
      "cell_type": "markdown",
      "id": "b6b5dfcd",
      "metadata": {
        "id": "b6b5dfcd"
      },
      "source": [
        "### Getting information from tensors\n",
        "\n",
        "When dealing with tensors you probably want to be aware of the following:\n",
        "\n",
        "* shape == The length (number of elements) of each of the dimensions of a tensor. == tensor.shape\n",
        "* Rank == The number of tensor dimensions.A scalar has rank 0, a vector has rank 1, a matrix has rank 2 or 2 dimension, a tensor has rank n or n dimension.\n",
        "  == tensor.ndim\n",
        "* Axis or dimension == A particular dimension of a tensor == tensor[0], tensor[:, 1]\n",
        "* size == The Total number of items in the tensors == tf.size(tensor)"
      ]
    },
    {
      "cell_type": "code",
      "execution_count": 21,
      "id": "2ed95b02",
      "metadata": {
        "colab": {
          "base_uri": "https://localhost:8080/"
        },
        "id": "2ed95b02",
        "outputId": "8454b320-053e-435b-a8e1-cd4cc92bed97"
      },
      "outputs": [
        {
          "data": {
            "text/plain": [
              "<tf.Tensor: shape=(2, 3, 4, 5), dtype=float32, numpy=\n",
              "array([[[[0., 0., 0., 0., 0.],\n",
              "         [0., 0., 0., 0., 0.],\n",
              "         [0., 0., 0., 0., 0.],\n",
              "         [0., 0., 0., 0., 0.]],\n",
              "\n",
              "        [[0., 0., 0., 0., 0.],\n",
              "         [0., 0., 0., 0., 0.],\n",
              "         [0., 0., 0., 0., 0.],\n",
              "         [0., 0., 0., 0., 0.]],\n",
              "\n",
              "        [[0., 0., 0., 0., 0.],\n",
              "         [0., 0., 0., 0., 0.],\n",
              "         [0., 0., 0., 0., 0.],\n",
              "         [0., 0., 0., 0., 0.]]],\n",
              "\n",
              "\n",
              "       [[[0., 0., 0., 0., 0.],\n",
              "         [0., 0., 0., 0., 0.],\n",
              "         [0., 0., 0., 0., 0.],\n",
              "         [0., 0., 0., 0., 0.]],\n",
              "\n",
              "        [[0., 0., 0., 0., 0.],\n",
              "         [0., 0., 0., 0., 0.],\n",
              "         [0., 0., 0., 0., 0.],\n",
              "         [0., 0., 0., 0., 0.]],\n",
              "\n",
              "        [[0., 0., 0., 0., 0.],\n",
              "         [0., 0., 0., 0., 0.],\n",
              "         [0., 0., 0., 0., 0.],\n",
              "         [0., 0., 0., 0., 0.]]]], dtype=float32)>"
            ]
          },
          "execution_count": 21,
          "metadata": {},
          "output_type": "execute_result"
        }
      ],
      "source": [
        "# create a rank 4 tensor (4 dimensions)\n",
        "\n",
        "rank_4_tensor = tf.zeros(shape=[2,3,4,5])\n",
        "rank_4_tensor"
      ]
    },
    {
      "cell_type": "code",
      "execution_count": 22,
      "id": "d3d911b5",
      "metadata": {
        "colab": {
          "base_uri": "https://localhost:8080/"
        },
        "id": "d3d911b5",
        "outputId": "7f5d958a-7382-4e6e-a5e7-a4db8dcb2798"
      },
      "outputs": [
        {
          "data": {
            "text/plain": [
              "<tf.Tensor: shape=(3, 4, 5), dtype=float32, numpy=\n",
              "array([[[0., 0., 0., 0., 0.],\n",
              "        [0., 0., 0., 0., 0.],\n",
              "        [0., 0., 0., 0., 0.],\n",
              "        [0., 0., 0., 0., 0.]],\n",
              "\n",
              "       [[0., 0., 0., 0., 0.],\n",
              "        [0., 0., 0., 0., 0.],\n",
              "        [0., 0., 0., 0., 0.],\n",
              "        [0., 0., 0., 0., 0.]],\n",
              "\n",
              "       [[0., 0., 0., 0., 0.],\n",
              "        [0., 0., 0., 0., 0.],\n",
              "        [0., 0., 0., 0., 0.],\n",
              "        [0., 0., 0., 0., 0.]]], dtype=float32)>"
            ]
          },
          "execution_count": 22,
          "metadata": {},
          "output_type": "execute_result"
        }
      ],
      "source": [
        "rank_4_tensor[0]"
      ]
    },
    {
      "cell_type": "code",
      "execution_count": 23,
      "id": "3dbdc863",
      "metadata": {
        "colab": {
          "base_uri": "https://localhost:8080/"
        },
        "id": "3dbdc863",
        "outputId": "8ba66bde-5e1e-4b13-bcdb-fbd1e8fdae20"
      },
      "outputs": [
        {
          "data": {
            "text/plain": [
              "(TensorShape([2, 3, 4, 5]), 4, <tf.Tensor: shape=(), dtype=int32, numpy=120>)"
            ]
          },
          "execution_count": 23,
          "metadata": {},
          "output_type": "execute_result"
        }
      ],
      "source": [
        "rank_4_tensor.shape, rank_4_tensor.ndim, tf.size(rank_4_tensor)"
      ]
    },
    {
      "cell_type": "code",
      "execution_count": 24,
      "id": "3accfe54",
      "metadata": {
        "colab": {
          "base_uri": "https://localhost:8080/"
        },
        "id": "3accfe54",
        "outputId": "ca769195-9f7c-46a2-b5ad-c519e031c6ae"
      },
      "outputs": [
        {
          "name": "stdout",
          "output_type": "stream",
          "text": [
            "Datatype of every element:  <dtype: 'float32'>\n",
            "Number of dimensions:  4\n",
            "Shape of tensor:  (2, 3, 4, 5)\n",
            "Elements along the 0 axis:  2\n",
            "Elements along the last axis:  5\n",
            "Total number of elements in our tensor: tf.Tensor(120, shape=(), dtype=int32)\n",
            "Total number of elements in our tensor: 120\n"
          ]
        }
      ],
      "source": [
        "# Get various attribute of our tensor\n",
        "\n",
        "print('Datatype of every element: ', rank_4_tensor.dtype)\n",
        "print('Number of dimensions: ', rank_4_tensor.ndim)\n",
        "print('Shape of tensor: ', rank_4_tensor.shape)\n",
        "print('Elements along the 0 axis: ', rank_4_tensor.shape[0])\n",
        "print('Elements along the last axis: ', rank_4_tensor.shape[-1])\n",
        "print(\"Total number of elements in our tensor:\", \n",
        "      tf.size(rank_4_tensor))\n",
        "print(\"Total number of elements in our tensor:\", \n",
        "      tf.size(rank_4_tensor).numpy())"
      ]
    },
    {
      "cell_type": "markdown",
      "id": "b568b447",
      "metadata": {
        "id": "b568b447"
      },
      "source": [
        "### Indexing tensors\n",
        "\n",
        "Tensors can be indexed just like python lists"
      ]
    },
    {
      "cell_type": "code",
      "execution_count": 25,
      "id": "82a762ea",
      "metadata": {
        "colab": {
          "base_uri": "https://localhost:8080/"
        },
        "id": "82a762ea",
        "outputId": "9cd8b7df-faac-430d-eba6-0f1d3f35130d"
      },
      "outputs": [
        {
          "data": {
            "text/plain": [
              "[1, 2]"
            ]
          },
          "execution_count": 25,
          "metadata": {},
          "output_type": "execute_result"
        }
      ],
      "source": [
        "# Get the first 2 elements of each dimension\n",
        "\n",
        "some_list = [1, 2, 3, 4]\n",
        "some_list[:2]"
      ]
    },
    {
      "cell_type": "code",
      "execution_count": 26,
      "id": "da23217a",
      "metadata": {
        "colab": {
          "base_uri": "https://localhost:8080/"
        },
        "id": "da23217a",
        "outputId": "45aab2dd-5ca0-446a-9c5a-6952bc34b8cb"
      },
      "outputs": [
        {
          "data": {
            "text/plain": [
              "<tf.Tensor: shape=(2, 2, 2, 2), dtype=float32, numpy=\n",
              "array([[[[0., 0.],\n",
              "         [0., 0.]],\n",
              "\n",
              "        [[0., 0.],\n",
              "         [0., 0.]]],\n",
              "\n",
              "\n",
              "       [[[0., 0.],\n",
              "         [0., 0.]],\n",
              "\n",
              "        [[0., 0.],\n",
              "         [0., 0.]]]], dtype=float32)>"
            ]
          },
          "execution_count": 26,
          "metadata": {},
          "output_type": "execute_result"
        }
      ],
      "source": [
        "rank_4_tensor[:2, :2, :2, :2]"
      ]
    },
    {
      "cell_type": "code",
      "execution_count": 27,
      "id": "f3a7bb9c",
      "metadata": {
        "colab": {
          "base_uri": "https://localhost:8080/"
        },
        "id": "f3a7bb9c",
        "outputId": "4c01d84d-32f6-41c0-8c02-23f8246fde92"
      },
      "outputs": [
        {
          "data": {
            "text/plain": [
              "<tf.Tensor: shape=(1, 1, 1, 5), dtype=float32, numpy=array([[[[0., 0., 0., 0., 0.]]]], dtype=float32)>"
            ]
          },
          "execution_count": 27,
          "metadata": {},
          "output_type": "execute_result"
        }
      ],
      "source": [
        "# Get the first element from each dimension from each index except for the final one.\n",
        "\n",
        "rank_4_tensor[:1, :1, :1, :]"
      ]
    },
    {
      "cell_type": "code",
      "execution_count": 28,
      "id": "4c0332b2",
      "metadata": {
        "colab": {
          "base_uri": "https://localhost:8080/"
        },
        "id": "4c0332b2",
        "outputId": "1ba17e66-8d18-40b3-df9d-762c4e290ca4"
      },
      "outputs": [
        {
          "data": {
            "text/plain": [
              "<tf.Tensor: shape=(1, 1, 4, 1), dtype=float32, numpy=\n",
              "array([[[[0.],\n",
              "         [0.],\n",
              "         [0.],\n",
              "         [0.]]]], dtype=float32)>"
            ]
          },
          "execution_count": 28,
          "metadata": {},
          "output_type": "execute_result"
        }
      ],
      "source": [
        "# Get the first element from each dimension from each index except for second last one.\n",
        "\n",
        "rank_4_tensor[:1, :1, :, :1]"
      ]
    },
    {
      "cell_type": "code",
      "execution_count": 29,
      "id": "763978ef",
      "metadata": {
        "colab": {
          "base_uri": "https://localhost:8080/"
        },
        "id": "763978ef",
        "outputId": "3d785028-a5cb-4333-d9d4-f501ae585022"
      },
      "outputs": [
        {
          "data": {
            "text/plain": [
              "(TensorShape([2, 2]), 2)"
            ]
          },
          "execution_count": 29,
          "metadata": {},
          "output_type": "execute_result"
        }
      ],
      "source": [
        "# Create a rank 2 tensor (2 dimensions)\n",
        "rank_2_tensor = tf.constant([[10, 7],\n",
        "                            [3, 4]])\n",
        "rank_2_tensor.shape, rank_2_tensor.ndim"
      ]
    },
    {
      "cell_type": "code",
      "execution_count": 30,
      "id": "27582058",
      "metadata": {
        "colab": {
          "base_uri": "https://localhost:8080/"
        },
        "id": "27582058",
        "outputId": "9e60ed8d-1540-4c4a-a03b-345fc1e06dbd"
      },
      "outputs": [
        {
          "data": {
            "text/plain": [
              "<tf.Tensor: shape=(2, 2), dtype=int32, numpy=\n",
              "array([[10,  7],\n",
              "       [ 3,  4]])>"
            ]
          },
          "execution_count": 30,
          "metadata": {},
          "output_type": "execute_result"
        }
      ],
      "source": [
        "rank_2_tensor"
      ]
    },
    {
      "cell_type": "code",
      "execution_count": 31,
      "id": "23ff3b02",
      "metadata": {
        "colab": {
          "base_uri": "https://localhost:8080/"
        },
        "id": "23ff3b02",
        "outputId": "0fa6a716-937e-4e5b-a3fa-27c106eceb58"
      },
      "outputs": [
        {
          "data": {
            "text/plain": [
              "([1, 2, 3, 4], 4)"
            ]
          },
          "execution_count": 31,
          "metadata": {},
          "output_type": "execute_result"
        }
      ],
      "source": [
        " some_list, some_list[-1]"
      ]
    },
    {
      "cell_type": "code",
      "execution_count": 32,
      "id": "1978c647",
      "metadata": {
        "colab": {
          "base_uri": "https://localhost:8080/"
        },
        "id": "1978c647",
        "outputId": "b11e0438-f8e5-46fe-854e-2316fdcc8714"
      },
      "outputs": [
        {
          "data": {
            "text/plain": [
              "<tf.Tensor: shape=(2,), dtype=int32, numpy=array([7, 4])>"
            ]
          },
          "execution_count": 32,
          "metadata": {},
          "output_type": "execute_result"
        }
      ],
      "source": [
        "# Get the last element of each of row of our rank 2 tensor\n",
        "rank_2_tensor[:, -1]"
      ]
    },
    {
      "cell_type": "code",
      "execution_count": 33,
      "id": "347248c1",
      "metadata": {
        "colab": {
          "base_uri": "https://localhost:8080/"
        },
        "id": "347248c1",
        "outputId": "76522b8c-d60d-4653-d18f-8ce832062b58"
      },
      "outputs": [
        {
          "data": {
            "text/plain": [
              "<tf.Tensor: shape=(2, 2, 1), dtype=int32, numpy=\n",
              "array([[[10],\n",
              "        [ 7]],\n",
              "\n",
              "       [[ 3],\n",
              "        [ 4]]])>"
            ]
          },
          "execution_count": 33,
          "metadata": {},
          "output_type": "execute_result"
        }
      ],
      "source": [
        "# add extra dimension to our rank_2_dimension\n",
        "rank_3_tensor = rank_2_tensor[..., tf.newaxis]\n",
        "rank_3_tensor"
      ]
    },
    {
      "cell_type": "code",
      "execution_count": 34,
      "id": "e070fd02",
      "metadata": {
        "colab": {
          "base_uri": "https://localhost:8080/"
        },
        "id": "e070fd02",
        "outputId": "9a3c479b-fd91-4fcb-cfba-b281011bcf05"
      },
      "outputs": [
        {
          "data": {
            "text/plain": [
              "<tf.Tensor: shape=(2, 2, 1), dtype=int32, numpy=\n",
              "array([[[10],\n",
              "        [ 7]],\n",
              "\n",
              "       [[ 3],\n",
              "        [ 4]]])>"
            ]
          },
          "execution_count": 34,
          "metadata": {},
          "output_type": "execute_result"
        }
      ],
      "source": [
        "# alternative to tf.newaxis\n",
        "tf.expand_dims(rank_2_tensor, axis = -1) # \"-1\" means expand the final axis"
      ]
    },
    {
      "cell_type": "code",
      "execution_count": 35,
      "id": "806b37b3",
      "metadata": {
        "colab": {
          "base_uri": "https://localhost:8080/"
        },
        "id": "806b37b3",
        "outputId": "a4356c62-049b-4424-e8d3-84bd1f474c92"
      },
      "outputs": [
        {
          "data": {
            "text/plain": [
              "<tf.Tensor: shape=(1, 2, 2), dtype=int32, numpy=\n",
              "array([[[10,  7],\n",
              "        [ 3,  4]]])>"
            ]
          },
          "execution_count": 35,
          "metadata": {},
          "output_type": "execute_result"
        }
      ],
      "source": [
        "tf.expand_dims(rank_2_tensor, axis = 0) # 0 means adding extra dimension at front"
      ]
    },
    {
      "cell_type": "code",
      "execution_count": 36,
      "id": "3c236a59",
      "metadata": {
        "colab": {
          "base_uri": "https://localhost:8080/"
        },
        "id": "3c236a59",
        "outputId": "94d45aca-234c-4c5a-a365-f7f451bcea64"
      },
      "outputs": [
        {
          "data": {
            "text/plain": [
              "<tf.Tensor: shape=(2, 1, 2), dtype=int32, numpy=\n",
              "array([[[10,  7]],\n",
              "\n",
              "       [[ 3,  4]]])>"
            ]
          },
          "execution_count": 36,
          "metadata": {},
          "output_type": "execute_result"
        }
      ],
      "source": [
        "tf.expand_dims(rank_2_tensor, axis = 1) # 1 means adding extra dimension at the middle"
      ]
    },
    {
      "cell_type": "code",
      "execution_count": 37,
      "id": "87b08f25",
      "metadata": {
        "colab": {
          "base_uri": "https://localhost:8080/"
        },
        "id": "87b08f25",
        "outputId": "6443aa19-2130-4d24-fc35-2f379196bbad"
      },
      "outputs": [
        {
          "data": {
            "text/plain": [
              "<tf.Tensor: shape=(2, 2), dtype=int32, numpy=\n",
              "array([[10,  7],\n",
              "       [ 3,  4]])>"
            ]
          },
          "execution_count": 37,
          "metadata": {},
          "output_type": "execute_result"
        }
      ],
      "source": [
        "rank_2_tensor"
      ]
    },
    {
      "cell_type": "markdown",
      "id": "1f4b1841",
      "metadata": {
        "id": "1f4b1841"
      },
      "source": [
        "### Manipulating tensor  (tensor operations)"
      ]
    },
    {
      "cell_type": "markdown",
      "id": "6a3a6794",
      "metadata": {
        "id": "6a3a6794"
      },
      "source": [
        "Basic operations"
      ]
    },
    {
      "cell_type": "code",
      "execution_count": 38,
      "id": "f1fb084d",
      "metadata": {
        "colab": {
          "base_uri": "https://localhost:8080/"
        },
        "id": "f1fb084d",
        "outputId": "2ce8ab2c-9a1c-4cc8-e892-9a60369ff6cc"
      },
      "outputs": [
        {
          "data": {
            "text/plain": [
              "<tf.Tensor: shape=(2, 2), dtype=int32, numpy=\n",
              "array([[20, 17],\n",
              "       [13, 14]])>"
            ]
          },
          "execution_count": 38,
          "metadata": {},
          "output_type": "execute_result"
        }
      ],
      "source": [
        "# you can add values to the tensor using addition operator\n",
        "tensor = tf.constant([[10, 7], [3, 4]])\n",
        "tensor + 10"
      ]
    },
    {
      "cell_type": "code",
      "execution_count": 39,
      "id": "ae4c9b26",
      "metadata": {
        "colab": {
          "base_uri": "https://localhost:8080/"
        },
        "id": "ae4c9b26",
        "outputId": "50acd342-5ace-41c4-d29e-493dadd080f2"
      },
      "outputs": [
        {
          "data": {
            "text/plain": [
              "<tf.Tensor: shape=(2, 2), dtype=int32, numpy=\n",
              "array([[10,  7],\n",
              "       [ 3,  4]])>"
            ]
          },
          "execution_count": 39,
          "metadata": {},
          "output_type": "execute_result"
        }
      ],
      "source": [
        "# now original tensor will not change\n",
        "tensor"
      ]
    },
    {
      "cell_type": "code",
      "execution_count": 40,
      "id": "06baae42",
      "metadata": {
        "colab": {
          "base_uri": "https://localhost:8080/"
        },
        "id": "06baae42",
        "outputId": "493776a7-d7d1-498f-dfbd-3c0b5c8fa16d"
      },
      "outputs": [
        {
          "data": {
            "text/plain": [
              "<tf.Tensor: shape=(2, 2), dtype=int32, numpy=\n",
              "array([[20, 17],\n",
              "       [13, 14]])>"
            ]
          },
          "execution_count": 40,
          "metadata": {},
          "output_type": "execute_result"
        }
      ],
      "source": [
        "# only way to change \n",
        "tensor = tensor + 10\n",
        "tensor"
      ]
    },
    {
      "cell_type": "code",
      "execution_count": 41,
      "id": "a648a448",
      "metadata": {
        "colab": {
          "base_uri": "https://localhost:8080/"
        },
        "id": "a648a448",
        "outputId": "965bf3b2-c764-4725-8376-55767b258b67"
      },
      "outputs": [
        {
          "data": {
            "text/plain": [
              "<tf.Tensor: shape=(2, 2), dtype=int32, numpy=\n",
              "array([[200, 170],\n",
              "       [130, 140]])>"
            ]
          },
          "execution_count": 41,
          "metadata": {},
          "output_type": "execute_result"
        }
      ],
      "source": [
        "# multiplication \n",
        "tensor * 10"
      ]
    },
    {
      "cell_type": "code",
      "execution_count": 42,
      "id": "47f97058",
      "metadata": {
        "colab": {
          "base_uri": "https://localhost:8080/"
        },
        "id": "47f97058",
        "outputId": "9d6ad4f2-feb5-43e0-d80a-341d0d74e7ac"
      },
      "outputs": [
        {
          "data": {
            "text/plain": [
              "<tf.Tensor: shape=(2, 2), dtype=int32, numpy=\n",
              "array([[10,  7],\n",
              "       [ 3,  4]])>"
            ]
          },
          "execution_count": 42,
          "metadata": {},
          "output_type": "execute_result"
        }
      ],
      "source": [
        "tensor - 10"
      ]
    },
    {
      "cell_type": "code",
      "execution_count": 43,
      "id": "af46f1df",
      "metadata": {
        "colab": {
          "base_uri": "https://localhost:8080/"
        },
        "id": "af46f1df",
        "outputId": "24078cba-3489-43b8-e891-e8d0d913a257"
      },
      "outputs": [
        {
          "data": {
            "text/plain": [
              "<tf.Tensor: shape=(2, 2), dtype=int32, numpy=\n",
              "array([[200, 170],\n",
              "       [130, 140]])>"
            ]
          },
          "execution_count": 43,
          "metadata": {},
          "output_type": "execute_result"
        }
      ],
      "source": [
        "# we can use the tensor built in function too\n",
        "tf.multiply(tensor, 10)"
      ]
    },
    {
      "cell_type": "code",
      "execution_count": 44,
      "id": "5b0ea2f2",
      "metadata": {
        "colab": {
          "base_uri": "https://localhost:8080/"
        },
        "id": "5b0ea2f2",
        "outputId": "d6680dc1-a809-4479-ecd3-987176fe54ab"
      },
      "outputs": [
        {
          "data": {
            "text/plain": [
              "<tf.Tensor: shape=(2, 2), dtype=int32, numpy=\n",
              "array([[20, 17],\n",
              "       [13, 14]])>"
            ]
          },
          "execution_count": 44,
          "metadata": {},
          "output_type": "execute_result"
        }
      ],
      "source": [
        "tensor# original tensor doesn't change"
      ]
    },
    {
      "cell_type": "markdown",
      "id": "029ca6e7",
      "metadata": {
        "id": "029ca6e7"
      },
      "source": [
        "Matrix Multiplication\n",
        "\n",
        "In machine learning , matrix multiplication is one of the most common tensor operations.\n",
        "\n",
        "There are two rules our tensors (or matrices) need to fulfil if we're going to matrix multiply them:\n",
        "1. The inner dimensions must match\n",
        "2. The resulting matrix has the shape of the outer dimensions."
      ]
    },
    {
      "cell_type": "code",
      "execution_count": 45,
      "id": "a1b3f3bb",
      "metadata": {
        "colab": {
          "base_uri": "https://localhost:8080/"
        },
        "id": "a1b3f3bb",
        "outputId": "8c64835e-3d27-449c-9212-4e307f915ae9"
      },
      "outputs": [
        {
          "name": "stdout",
          "output_type": "stream",
          "text": [
            "tf.Tensor(\n",
            "[[20 17]\n",
            " [13 14]], shape=(2, 2), dtype=int32)\n"
          ]
        },
        {
          "data": {
            "text/plain": [
              "<tf.Tensor: shape=(2, 2), dtype=int32, numpy=\n",
              "array([[621, 578],\n",
              "       [442, 417]])>"
            ]
          },
          "execution_count": 45,
          "metadata": {},
          "output_type": "execute_result"
        }
      ],
      "source": [
        "# matrix multiplication in tensorflow\n",
        "\n",
        "print(tensor)\n",
        "tf.matmul(tensor,tensor)"
      ]
    },
    {
      "cell_type": "code",
      "execution_count": 46,
      "id": "54b7ccc5",
      "metadata": {
        "colab": {
          "base_uri": "https://localhost:8080/"
        },
        "id": "54b7ccc5",
        "outputId": "76c4d2e4-cd88-4f56-c32a-37b9f8e3eb2b"
      },
      "outputs": [
        {
          "data": {
            "text/plain": [
              "<tf.Tensor: shape=(2, 2), dtype=int32, numpy=\n",
              "array([[621, 578],\n",
              "       [442, 417]])>"
            ]
          },
          "execution_count": 46,
          "metadata": {},
          "output_type": "execute_result"
        }
      ],
      "source": [
        "# matrix multiplication with python operator \"@\"\n",
        "\n",
        "tensor @ tensor"
      ]
    },
    {
      "cell_type": "code",
      "execution_count": 47,
      "id": "c14ee9f1",
      "metadata": {
        "colab": {
          "base_uri": "https://localhost:8080/"
        },
        "id": "c14ee9f1",
        "outputId": "0eb52c66-1d94-48b8-c8f3-730fbdc946ea"
      },
      "outputs": [
        {
          "data": {
            "text/plain": [
              "TensorShape([2, 2])"
            ]
          },
          "execution_count": 47,
          "metadata": {},
          "output_type": "execute_result"
        }
      ],
      "source": [
        "tensor.shape"
      ]
    },
    {
      "cell_type": "code",
      "execution_count": 48,
      "id": "86d88ff2",
      "metadata": {
        "colab": {
          "base_uri": "https://localhost:8080/"
        },
        "id": "86d88ff2",
        "outputId": "30b96436-506f-46b8-dd24-cf891a648675"
      },
      "outputs": [
        {
          "data": {
            "text/plain": [
              "(<tf.Tensor: shape=(3, 2), dtype=int32, numpy=\n",
              " array([[1, 2],\n",
              "        [3, 4],\n",
              "        [5, 6]])>,\n",
              " <tf.Tensor: shape=(3, 2), dtype=int32, numpy=\n",
              " array([[ 7,  8],\n",
              "        [ 9, 10],\n",
              "        [11, 12]])>)"
            ]
          },
          "execution_count": 48,
          "metadata": {},
          "output_type": "execute_result"
        }
      ],
      "source": [
        "# create a tensor (3, 2)\n",
        "X = tf.constant([[1, 2],\n",
        "                [3, 4],\n",
        "                [5, 6]])\n",
        "\n",
        "# create another (3, 2) tensor\n",
        "y = tf.constant([[7, 8],\n",
        "                [9, 10],\n",
        "                [11, 12]])\n",
        "\n",
        "X, y"
      ]
    },
    {
      "cell_type": "code",
      "execution_count": 49,
      "id": "7e8a179d",
      "metadata": {
        "colab": {
          "base_uri": "https://localhost:8080/",
          "height": 345
        },
        "id": "7e8a179d",
        "outputId": "00faef81-a729-4620-d37a-d0b143b87bb1"
      },
      "outputs": [],
      "source": [
        "# Try to matrix multiply of same shape\n",
        "# we will get error bcoz we have to satisfy the two rules\n",
        "\n",
        "#There are two rules our tensors (or matrices) need to fulfil \n",
        "#if we're going to matrix multiply them:\n",
        "\n",
        "# 1.The inner dimensions must match\n",
        "# 2.The resulting matrix has the shape of the outer dimensions.\n",
        "# means for first rule if 2 matrices have (x, y) and another \n",
        "# matrix have (a, b) size, for 1st rule in inner dim if y = a\n",
        "#  This y = a is satisfies 1 st rule and for second rule x = b must\n",
        "# be satisfied.\n",
        "\n",
        "\n",
        "# tf.matmul(X, y) # you will get error here bcoz you are not following the above rules"
      ]
    },
    {
      "cell_type": "code",
      "execution_count": 50,
      "id": "c9840cfb",
      "metadata": {
        "colab": {
          "base_uri": "https://localhost:8080/"
        },
        "id": "c9840cfb",
        "outputId": "0c34c212-4239-4316-a3b4-c5a5c5d4b2f3"
      },
      "outputs": [
        {
          "data": {
            "text/plain": [
              "<tf.Tensor: shape=(3, 2), dtype=int32, numpy=\n",
              "array([[ 7,  8],\n",
              "       [ 9, 10],\n",
              "       [11, 12]])>"
            ]
          },
          "execution_count": 50,
          "metadata": {},
          "output_type": "execute_result"
        }
      ],
      "source": [
        "y"
      ]
    },
    {
      "cell_type": "code",
      "execution_count": 51,
      "id": "c2df8d58",
      "metadata": {
        "colab": {
          "base_uri": "https://localhost:8080/"
        },
        "id": "c2df8d58",
        "outputId": "aff478ee-79c1-4eff-9aa1-6400dad50fcc"
      },
      "outputs": [
        {
          "data": {
            "text/plain": [
              "<tf.Tensor: shape=(2, 3), dtype=int32, numpy=\n",
              "array([[ 7,  8,  9],\n",
              "       [10, 11, 12]])>"
            ]
          },
          "execution_count": 51,
          "metadata": {},
          "output_type": "execute_result"
        }
      ],
      "source": [
        "# Let's change the shape of y\n",
        "tf.reshape(y, shape = (2, 3))"
      ]
    },
    {
      "cell_type": "code",
      "execution_count": 52,
      "id": "e97e4045",
      "metadata": {
        "colab": {
          "base_uri": "https://localhost:8080/"
        },
        "id": "e97e4045",
        "outputId": "1b910f89-d9d1-46fa-e6a4-c4a5e1891e5c"
      },
      "outputs": [
        {
          "data": {
            "text/plain": [
              "<tf.Tensor: shape=(3, 2), dtype=int32, numpy=\n",
              "array([[1, 2],\n",
              "       [3, 4],\n",
              "       [5, 6]])>"
            ]
          },
          "execution_count": 52,
          "metadata": {},
          "output_type": "execute_result"
        }
      ],
      "source": [
        "X"
      ]
    },
    {
      "cell_type": "code",
      "execution_count": 53,
      "id": "2e3bbb6b",
      "metadata": {
        "colab": {
          "base_uri": "https://localhost:8080/"
        },
        "id": "2e3bbb6b",
        "outputId": "e159faf4-83e2-439d-c47f-3a413c78cd70"
      },
      "outputs": [
        {
          "data": {
            "text/plain": [
              "(TensorShape([3, 2]), TensorShape([2, 3]))"
            ]
          },
          "execution_count": 53,
          "metadata": {},
          "output_type": "execute_result"
        }
      ],
      "source": [
        "X.shape, tf.reshape(y, shape = (2, 3)).shape # checking whether the\n",
        "# two rules are satisfied or not."
      ]
    },
    {
      "cell_type": "code",
      "execution_count": 54,
      "id": "b493db62",
      "metadata": {
        "colab": {
          "base_uri": "https://localhost:8080/"
        },
        "id": "b493db62",
        "outputId": "d41d2deb-10dd-41f6-a6ac-dd1bbddd2cea"
      },
      "outputs": [
        {
          "data": {
            "text/plain": [
              "<tf.Tensor: shape=(3, 3), dtype=int32, numpy=\n",
              "array([[ 27,  30,  33],\n",
              "       [ 61,  68,  75],\n",
              "       [ 95, 106, 117]])>"
            ]
          },
          "execution_count": 54,
          "metadata": {},
          "output_type": "execute_result"
        }
      ],
      "source": [
        "# try to mmatrix multiply X by reshaped y\n",
        "\n",
        "X @ tf.reshape(y, shape = (2, 3))"
      ]
    },
    {
      "cell_type": "code",
      "execution_count": 55,
      "id": "8f144ae5",
      "metadata": {
        "colab": {
          "base_uri": "https://localhost:8080/"
        },
        "id": "8f144ae5",
        "outputId": "259a3686-cde7-4a04-a67c-631655ce87ff"
      },
      "outputs": [
        {
          "data": {
            "text/plain": [
              "<tf.Tensor: shape=(3, 3), dtype=int32, numpy=\n",
              "array([[ 27,  30,  33],\n",
              "       [ 61,  68,  75],\n",
              "       [ 95, 106, 117]])>"
            ]
          },
          "execution_count": 55,
          "metadata": {},
          "output_type": "execute_result"
        }
      ],
      "source": [
        "tf.matmul(X, tf.reshape(y, shape = (2, 3)))"
      ]
    },
    {
      "cell_type": "code",
      "execution_count": 56,
      "id": "7b83e09c",
      "metadata": {
        "colab": {
          "base_uri": "https://localhost:8080/"
        },
        "id": "7b83e09c",
        "outputId": "2b07c2f2-5b59-4a6b-b99e-0041fd135534"
      },
      "outputs": [
        {
          "data": {
            "text/plain": [
              "<tf.Tensor: shape=(2, 2), dtype=int32, numpy=\n",
              "array([[ 58,  64],\n",
              "       [139, 154]])>"
            ]
          },
          "execution_count": 56,
          "metadata": {},
          "output_type": "execute_result"
        }
      ],
      "source": [
        "# what if we reshape X instead of y\n",
        "\n",
        "tf.matmul(tf.reshape(X, shape = (2, 3)), y)"
      ]
    },
    {
      "cell_type": "code",
      "execution_count": 57,
      "id": "13be5849",
      "metadata": {
        "colab": {
          "base_uri": "https://localhost:8080/"
        },
        "id": "13be5849",
        "outputId": "9d41f46d-961f-4299-895d-21ab418cdfe6"
      },
      "outputs": [
        {
          "data": {
            "text/plain": [
              "(TensorShape([2, 3]), TensorShape([3, 2]))"
            ]
          },
          "execution_count": 57,
          "metadata": {},
          "output_type": "execute_result"
        }
      ],
      "source": [
        "tf.reshape(X, shape = (2, 3)).shape, y.shape"
      ]
    },
    {
      "cell_type": "code",
      "execution_count": 58,
      "id": "7e6a76ce",
      "metadata": {
        "colab": {
          "base_uri": "https://localhost:8080/"
        },
        "id": "7e6a76ce",
        "outputId": "21182f45-ba77-4a15-803f-a92cbd3b809b"
      },
      "outputs": [
        {
          "data": {
            "text/plain": [
              "(<tf.Tensor: shape=(3, 2), dtype=int32, numpy=\n",
              " array([[1, 2],\n",
              "        [3, 4],\n",
              "        [5, 6]])>,\n",
              " <tf.Tensor: shape=(2, 3), dtype=int32, numpy=\n",
              " array([[1, 3, 5],\n",
              "        [2, 4, 6]])>,\n",
              " <tf.Tensor: shape=(2, 3), dtype=int32, numpy=\n",
              " array([[1, 2, 3],\n",
              "        [4, 5, 6]])>)"
            ]
          },
          "execution_count": 58,
          "metadata": {},
          "output_type": "execute_result"
        }
      ],
      "source": [
        "# can do the same with transpose\n",
        "X, tf.transpose(X), tf.reshape(X, shape = (2, 3))"
      ]
    },
    {
      "cell_type": "code",
      "execution_count": 59,
      "id": "538941ec",
      "metadata": {
        "colab": {
          "base_uri": "https://localhost:8080/"
        },
        "id": "538941ec",
        "outputId": "1c2df1a5-c5ee-49bf-aa50-b71145f9176b"
      },
      "outputs": [
        {
          "data": {
            "text/plain": [
              "<tf.Tensor: shape=(2, 2), dtype=int32, numpy=\n",
              "array([[ 89,  98],\n",
              "       [116, 128]])>"
            ]
          },
          "execution_count": 59,
          "metadata": {},
          "output_type": "execute_result"
        }
      ],
      "source": [
        "# Try matrix multiplication with transpose rather than reshape\n",
        "tf.matmul(tf.transpose(X), y)"
      ]
    },
    {
      "cell_type": "markdown",
      "id": "015a4374",
      "metadata": {
        "id": "015a4374"
      },
      "source": [
        "**The dot product**\n",
        "\n",
        "Matrix multiplication is also reffered to as the dot product.\n",
        "You can perform matrix multiplication using:\n",
        "* 'tf.matmul()'\n",
        "* 'tf.tensordot()'"
      ]
    },
    {
      "cell_type": "code",
      "execution_count": 60,
      "id": "db79c2b1",
      "metadata": {
        "colab": {
          "base_uri": "https://localhost:8080/"
        },
        "id": "db79c2b1",
        "outputId": "19cbc188-037e-42dc-facc-fb854a5a9df5"
      },
      "outputs": [
        {
          "data": {
            "text/plain": [
              "(<tf.Tensor: shape=(3, 2), dtype=int32, numpy=\n",
              " array([[1, 2],\n",
              "        [3, 4],\n",
              "        [5, 6]])>,\n",
              " <tf.Tensor: shape=(3, 2), dtype=int32, numpy=\n",
              " array([[ 7,  8],\n",
              "        [ 9, 10],\n",
              "        [11, 12]])>)"
            ]
          },
          "execution_count": 60,
          "metadata": {},
          "output_type": "execute_result"
        }
      ],
      "source": [
        "X, y"
      ]
    },
    {
      "cell_type": "code",
      "execution_count": 61,
      "id": "4e05be93",
      "metadata": {
        "colab": {
          "base_uri": "https://localhost:8080/"
        },
        "id": "4e05be93",
        "outputId": "fec1ed7a-37ae-4cc2-81c1-2e22f334ab61"
      },
      "outputs": [
        {
          "data": {
            "text/plain": [
              "<tf.Tensor: shape=(2, 2), dtype=int32, numpy=\n",
              "array([[ 89,  98],\n",
              "       [116, 128]])>"
            ]
          },
          "execution_count": 61,
          "metadata": {},
          "output_type": "execute_result"
        }
      ],
      "source": [
        "# perform the dot product X and y (requires X or y to be transpose)\n",
        "# tf.tensordot(): tensor contraction of a and b along specified axes and outer product.\n",
        "tf.tensordot(tf.transpose(X), y, axes = 1)"
      ]
    },
    {
      "cell_type": "code",
      "execution_count": 62,
      "id": "6514c7d9",
      "metadata": {
        "colab": {
          "base_uri": "https://localhost:8080/"
        },
        "id": "6514c7d9",
        "outputId": "c10fec49-280e-4223-f2a2-db474316ce3c"
      },
      "outputs": [
        {
          "data": {
            "text/plain": [
              "<tf.Tensor: shape=(3, 3), dtype=int32, numpy=\n",
              "array([[ 23,  29,  35],\n",
              "       [ 53,  67,  81],\n",
              "       [ 83, 105, 127]])>"
            ]
          },
          "execution_count": 62,
          "metadata": {},
          "output_type": "execute_result"
        }
      ],
      "source": [
        "# perform matrix multiplication b/w  X and y (transposed)\n",
        "tf.matmul(X, tf.transpose(y))"
      ]
    },
    {
      "cell_type": "code",
      "execution_count": 63,
      "id": "af5761e6",
      "metadata": {
        "colab": {
          "base_uri": "https://localhost:8080/"
        },
        "id": "af5761e6",
        "outputId": "1e4d6947-af1a-4719-adb2-9be83c0e2563"
      },
      "outputs": [
        {
          "data": {
            "text/plain": [
              "<tf.Tensor: shape=(3, 3), dtype=int32, numpy=\n",
              "array([[ 27,  30,  33],\n",
              "       [ 61,  68,  75],\n",
              "       [ 95, 106, 117]])>"
            ]
          },
          "execution_count": 63,
          "metadata": {},
          "output_type": "execute_result"
        }
      ],
      "source": [
        "# perform matrix multiplication b/w  X and y (reshaped)\n",
        "tf.matmul(X, tf.reshape(y, shape = (2, 3)))"
      ]
    },
    {
      "cell_type": "code",
      "execution_count": 64,
      "id": "b4fb4beb",
      "metadata": {
        "colab": {
          "base_uri": "https://localhost:8080/"
        },
        "id": "b4fb4beb",
        "outputId": "3529fdf8-5694-4410-942b-245fce4ed3f1"
      },
      "outputs": [
        {
          "name": "stdout",
          "output_type": "stream",
          "text": [
            "normal y:  tf.Tensor(\n",
            "[[ 7  8]\n",
            " [ 9 10]\n",
            " [11 12]], shape=(3, 2), dtype=int32)\n",
            "reshaped y:  tf.Tensor(\n",
            "[[ 7  8  9]\n",
            " [10 11 12]], shape=(2, 3), dtype=int32)\n",
            "transpose y:  tf.Tensor(\n",
            "[[ 7  9 11]\n",
            " [ 8 10 12]], shape=(2, 3), dtype=int32)\n"
          ]
        }
      ],
      "source": [
        "# check the values of y, reshape y and transposed y\n",
        "print('normal y: ', y)\n",
        "print('reshaped y: ', tf.reshape(y, shape = (2, 3)))\n",
        "print('transpose y: ', tf.transpose(y))"
      ]
    },
    {
      "cell_type": "code",
      "execution_count": 65,
      "id": "fc13bdaa",
      "metadata": {
        "colab": {
          "base_uri": "https://localhost:8080/"
        },
        "id": "fc13bdaa",
        "outputId": "ce7e982a-3507-4e49-9ba3-6d42b9e2bd47"
      },
      "outputs": [
        {
          "data": {
            "text/plain": [
              "<tf.Tensor: shape=(3, 3), dtype=int32, numpy=\n",
              "array([[ 23,  29,  35],\n",
              "       [ 53,  67,  81],\n",
              "       [ 83, 105, 127]])>"
            ]
          },
          "execution_count": 65,
          "metadata": {},
          "output_type": "execute_result"
        }
      ],
      "source": [
        "tf.matmul(X, tf.transpose(y))"
      ]
    },
    {
      "cell_type": "markdown",
      "id": "944baa7d",
      "metadata": {
        "id": "944baa7d"
      },
      "source": [
        "Generally, when performing matrix multiplication on two tensors and one of the axes doesn't line up, you will transpose (rather than reshape) one of the tensors to get satisfy the matrix multiplication rules."
      ]
    },
    {
      "cell_type": "markdown",
      "id": "c7611e04",
      "metadata": {
        "id": "c7611e04"
      },
      "source": [
        "# Changing the datatype of a tensor"
      ]
    },
    {
      "cell_type": "code",
      "execution_count": 66,
      "id": "3390847b",
      "metadata": {
        "colab": {
          "base_uri": "https://localhost:8080/"
        },
        "id": "3390847b",
        "outputId": "aa9071aa-c4fa-416e-eb16-0ed7458876bf"
      },
      "outputs": [
        {
          "data": {
            "text/plain": [
              "(<tf.Tensor: shape=(2,), dtype=float32, numpy=array([1.7, 7.4], dtype=float32)>,\n",
              " tf.float32)"
            ]
          },
          "execution_count": 66,
          "metadata": {},
          "output_type": "execute_result"
        }
      ],
      "source": [
        "# create a new tensor with default datatype (float32)\n",
        "B = tf.constant([1.7, 7.4])\n",
        "B, B.dtype"
      ]
    },
    {
      "cell_type": "code",
      "execution_count": 67,
      "id": "46badd7a",
      "metadata": {
        "colab": {
          "base_uri": "https://localhost:8080/"
        },
        "id": "46badd7a",
        "outputId": "b7446f06-df46-4187-dac2-cae31eb46ba1"
      },
      "outputs": [
        {
          "data": {
            "text/plain": [
              "tf.int32"
            ]
          },
          "execution_count": 67,
          "metadata": {},
          "output_type": "execute_result"
        }
      ],
      "source": [
        "C = tf.constant([7, 10])\n",
        "C.dtype"
      ]
    },
    {
      "cell_type": "code",
      "execution_count": 68,
      "id": "2524e2fc",
      "metadata": {
        "colab": {
          "base_uri": "https://localhost:8080/"
        },
        "id": "2524e2fc",
        "outputId": "bf2dc858-f6e0-404e-847c-b33aa1268f0f"
      },
      "outputs": [
        {
          "data": {
            "text/plain": [
              "(<tf.Tensor: shape=(2,), dtype=float16, numpy=array([1.7, 7.4], dtype=float16)>,\n",
              " tf.float16)"
            ]
          },
          "execution_count": 68,
          "metadata": {},
          "output_type": "execute_result"
        }
      ],
      "source": [
        "# change from float32 to float16 (called reduced precision)\n",
        "D = tf.cast(B, dtype = tf.float16)\n",
        "D, D.dtype"
      ]
    },
    {
      "cell_type": "code",
      "execution_count": 69,
      "id": "5083af7d",
      "metadata": {
        "colab": {
          "base_uri": "https://localhost:8080/"
        },
        "id": "5083af7d",
        "outputId": "224ee36d-36d2-44d3-d4c9-17b4c32f04de"
      },
      "outputs": [
        {
          "data": {
            "text/plain": [
              "(<tf.Tensor: shape=(2,), dtype=float32, numpy=array([ 7., 10.], dtype=float32)>,\n",
              " tf.float32)"
            ]
          },
          "execution_count": 69,
          "metadata": {},
          "output_type": "execute_result"
        }
      ],
      "source": [
        "# change from int32 to float32\n",
        "E = tf.cast(C, dtype = tf.float32)\n",
        "E, E.dtype"
      ]
    },
    {
      "cell_type": "code",
      "execution_count": 70,
      "id": "f81db910",
      "metadata": {
        "colab": {
          "base_uri": "https://localhost:8080/"
        },
        "id": "f81db910",
        "outputId": "704276fc-8144-43d1-f71a-e37c1065bbc1"
      },
      "outputs": [
        {
          "data": {
            "text/plain": [
              "(<tf.Tensor: shape=(2,), dtype=float16, numpy=array([ 7., 10.], dtype=float16)>,\n",
              " TensorShape([2]))"
            ]
          },
          "execution_count": 70,
          "metadata": {},
          "output_type": "execute_result"
        }
      ],
      "source": [
        "E_float16 = tf.cast(E, dtype = tf.float16)\n",
        "E_float16, E_float16.shape"
      ]
    },
    {
      "cell_type": "markdown",
      "id": "125a3833",
      "metadata": {
        "id": "125a3833"
      },
      "source": [
        "# Aggregating tensors\n",
        "\n",
        "Aggregating tensors = condensing them from multiple values down to a smaller amount of values."
      ]
    },
    {
      "cell_type": "code",
      "execution_count": 71,
      "id": "216e7054",
      "metadata": {
        "colab": {
          "base_uri": "https://localhost:8080/"
        },
        "id": "216e7054",
        "outputId": "ab7ee816-5618-499b-fe56-48973bbe322f"
      },
      "outputs": [
        {
          "data": {
            "text/plain": [
              "<tf.Tensor: shape=(2,), dtype=int32, numpy=array([ -7, -10])>"
            ]
          },
          "execution_count": 71,
          "metadata": {},
          "output_type": "execute_result"
        }
      ],
      "source": [
        "# Create a tensor\n",
        "D = tf.constant([-7, -10])\n",
        "D"
      ]
    },
    {
      "cell_type": "code",
      "execution_count": 72,
      "id": "aae800e8",
      "metadata": {
        "colab": {
          "base_uri": "https://localhost:8080/"
        },
        "id": "aae800e8",
        "outputId": "3931313b-3e58-4a21-ae2c-3382a1245483"
      },
      "outputs": [
        {
          "data": {
            "text/plain": [
              "<tf.Tensor: shape=(2,), dtype=int32, numpy=array([ 7, 10])>"
            ]
          },
          "execution_count": 72,
          "metadata": {},
          "output_type": "execute_result"
        }
      ],
      "source": [
        "# Get the absolute values\n",
        "tf.abs(D)# So the absolute values are basically take all the -ve numbers in one tensor and turn them into +ve numbers."
      ]
    },
    {
      "cell_type": "markdown",
      "id": "e2799611",
      "metadata": {
        "id": "e2799611"
      },
      "source": [
        "Let's go through the following forms of aggregation:\n",
        "\n",
        "* Get the minimum\n",
        "* Get the maximum\n",
        "* Get the mean of a tensor\n",
        "* Get the sum of a tensor"
      ]
    },
    {
      "cell_type": "code",
      "execution_count": 73,
      "id": "ccf7685f",
      "metadata": {
        "colab": {
          "base_uri": "https://localhost:8080/"
        },
        "id": "ccf7685f",
        "outputId": "17485630-127f-44a1-fb47-8b1ee0805ae2"
      },
      "outputs": [
        {
          "data": {
            "text/plain": [
              "<tf.Tensor: shape=(50,), dtype=int32, numpy=\n",
              "array([89, 50, 74, 20, 92, 52,  7, 99, 19, 84, 69, 44, 29, 18, 60, 14, 38,\n",
              "       21, 70, 68, 62, 21, 14, 79, 86, 97, 73, 31, 47, 65,  1, 84, 30, 69,\n",
              "       59, 38, 15, 27, 91, 40, 53, 71, 17, 19,  6,  5, 28, 92, 85, 76])>"
            ]
          },
          "execution_count": 73,
          "metadata": {},
          "output_type": "execute_result"
        }
      ],
      "source": [
        "# creating a random tensorwith values b/w 0 and 100 o size 50\n",
        "E = tf.constant(np.random.randint(1, 100, size = 50))\n",
        "E"
      ]
    },
    {
      "cell_type": "code",
      "execution_count": 74,
      "id": "d3bff74a",
      "metadata": {
        "colab": {
          "base_uri": "https://localhost:8080/"
        },
        "id": "d3bff74a",
        "outputId": "880b7a1b-3ac6-4d45-9514-fec4a8ebc22e"
      },
      "outputs": [
        {
          "data": {
            "text/plain": [
              "(<tf.Tensor: shape=(), dtype=int32, numpy=50>, TensorShape([50]), 1)"
            ]
          },
          "execution_count": 74,
          "metadata": {},
          "output_type": "execute_result"
        }
      ],
      "source": [
        "tf.size(E), E.shape, E.ndim"
      ]
    },
    {
      "cell_type": "code",
      "execution_count": 75,
      "id": "1c1f0111",
      "metadata": {
        "colab": {
          "base_uri": "https://localhost:8080/"
        },
        "id": "1c1f0111",
        "outputId": "585d8856-2636-4389-f1a7-8ee695cfbb0f"
      },
      "outputs": [
        {
          "data": {
            "text/plain": [
              "<tf.Tensor: shape=(), dtype=int32, numpy=1>"
            ]
          },
          "execution_count": 75,
          "metadata": {},
          "output_type": "execute_result"
        }
      ],
      "source": [
        "# Find the minimum \n",
        "tf.reduce_min(E)"
      ]
    },
    {
      "cell_type": "code",
      "execution_count": 76,
      "id": "2eea543a",
      "metadata": {
        "colab": {
          "base_uri": "https://localhost:8080/"
        },
        "id": "2eea543a",
        "outputId": "8944ed1f-10cc-4e9a-87a1-54485a0d880e"
      },
      "outputs": [
        {
          "data": {
            "text/plain": [
              "<tf.Tensor: shape=(), dtype=int32, numpy=99>"
            ]
          },
          "execution_count": 76,
          "metadata": {},
          "output_type": "execute_result"
        }
      ],
      "source": [
        "# Find the maximum\n",
        "tf.reduce_max(E)"
      ]
    },
    {
      "cell_type": "code",
      "execution_count": 77,
      "id": "cf3f6ed9",
      "metadata": {
        "colab": {
          "base_uri": "https://localhost:8080/"
        },
        "id": "cf3f6ed9",
        "outputId": "7700790a-c398-45e7-fb54-fe85d97e5e98"
      },
      "outputs": [
        {
          "data": {
            "text/plain": [
              "<tf.Tensor: shape=(), dtype=int32, numpy=49>"
            ]
          },
          "execution_count": 77,
          "metadata": {},
          "output_type": "execute_result"
        }
      ],
      "source": [
        "# Find the mean\n",
        "tf.reduce_mean(E)"
      ]
    },
    {
      "cell_type": "code",
      "execution_count": 78,
      "id": "6ed72934",
      "metadata": {
        "colab": {
          "base_uri": "https://localhost:8080/"
        },
        "id": "6ed72934",
        "outputId": "467cdee9-c1bb-42d9-ea32-23daccfd64fe"
      },
      "outputs": [
        {
          "data": {
            "text/plain": [
              "<tf.Tensor: shape=(), dtype=int32, numpy=2498>"
            ]
          },
          "execution_count": 78,
          "metadata": {},
          "output_type": "execute_result"
        }
      ],
      "source": [
        "# Find the sum of tensor\n",
        "tf.reduce_sum(E)"
      ]
    },
    {
      "cell_type": "code",
      "execution_count": 79,
      "id": "704c3a7f",
      "metadata": {
        "id": "704c3a7f"
      },
      "outputs": [],
      "source": [
        "import tensorflow_probability as tfp"
      ]
    },
    {
      "cell_type": "code",
      "execution_count": 80,
      "id": "a8fa3312",
      "metadata": {
        "colab": {
          "base_uri": "https://localhost:8080/"
        },
        "id": "a8fa3312",
        "outputId": "ddd3a66f-c76d-44aa-a5ff-a417e859b920"
      },
      "outputs": [
        {
          "data": {
            "text/plain": [
              "<tf.Tensor: shape=(), dtype=int32, numpy=851>"
            ]
          },
          "execution_count": 80,
          "metadata": {},
          "output_type": "execute_result"
        }
      ],
      "source": [
        "# Find the variance of tensor\n",
        "tfp.stats.variance(E)"
      ]
    },
    {
      "cell_type": "code",
      "execution_count": 81,
      "id": "rrHwOo18BVnR",
      "metadata": {
        "colab": {
          "base_uri": "https://localhost:8080/"
        },
        "id": "rrHwOo18BVnR",
        "outputId": "59b84abc-61b8-412a-e9b6-8a0a1996b1bd"
      },
      "outputs": [
        {
          "data": {
            "text/plain": [
              "<tf.Tensor: shape=(), dtype=float32, numpy=850.7584>"
            ]
          },
          "execution_count": 81,
          "metadata": {},
          "output_type": "execute_result"
        }
      ],
      "source": [
        "tf.math.reduce_variance(tf.cast(E, dtype = tf.float32))"
      ]
    },
    {
      "cell_type": "code",
      "execution_count": 82,
      "id": "b81e09ec",
      "metadata": {
        "colab": {
          "base_uri": "https://localhost:8080/"
        },
        "id": "b81e09ec",
        "outputId": "4d049ab0-ca45-47f0-b636-4f5c20e56d32"
      },
      "outputs": [
        {
          "data": {
            "text/plain": [
              "<tf.Tensor: shape=(), dtype=float32, numpy=29.167763>"
            ]
          },
          "execution_count": 82,
          "metadata": {},
          "output_type": "execute_result"
        }
      ],
      "source": [
        "# find the standard deviation (std)\n",
        "tf.math.reduce_std(tf.cast(E, dtype = tf.float32)) # we're changing it to float32 bcoz for standardization we need it to be real or complex type"
      ]
    },
    {
      "cell_type": "markdown",
      "id": "XejVJKtNAHPI",
      "metadata": {
        "id": "XejVJKtNAHPI"
      },
      "source": [
        " find the positional maximum and minimum\n",
        "\n",
        " you will use this more on neural network o/p's prediction probobality"
      ]
    },
    {
      "cell_type": "code",
      "execution_count": 83,
      "id": "T_f4twM0AIGp",
      "metadata": {
        "colab": {
          "base_uri": "https://localhost:8080/"
        },
        "id": "T_f4twM0AIGp",
        "outputId": "4deda320-121c-4c5d-efe2-b25836fc2675"
      },
      "outputs": [
        {
          "data": {
            "text/plain": [
              "<tf.Tensor: shape=(50,), dtype=float32, numpy=\n",
              "array([0.6645621 , 0.44100678, 0.3528825 , 0.46448255, 0.03366041,\n",
              "       0.68467236, 0.74011743, 0.8724445 , 0.22632635, 0.22319686,\n",
              "       0.3103881 , 0.7223358 , 0.13318717, 0.5480639 , 0.5746088 ,\n",
              "       0.8996835 , 0.00946367, 0.5212307 , 0.6345445 , 0.1993283 ,\n",
              "       0.72942245, 0.54583454, 0.10756552, 0.6767061 , 0.6602763 ,\n",
              "       0.33695042, 0.60141766, 0.21062577, 0.8527372 , 0.44062173,\n",
              "       0.9485276 , 0.23752594, 0.81179297, 0.5263394 , 0.494308  ,\n",
              "       0.21612847, 0.8457197 , 0.8718841 , 0.3083862 , 0.6868038 ,\n",
              "       0.23764038, 0.7817228 , 0.9671384 , 0.06870162, 0.79873943,\n",
              "       0.66028714, 0.5871513 , 0.16461694, 0.7381023 , 0.32054043],\n",
              "      dtype=float32)>"
            ]
          },
          "execution_count": 83,
          "metadata": {},
          "output_type": "execute_result"
        }
      ],
      "source": [
        "# create a new tensor for finding the positional minimum and maximum\n",
        "tf.random.set_seed(42)\n",
        "F = tf.random.uniform(shape = [50])\n",
        "F"
      ]
    },
    {
      "cell_type": "code",
      "execution_count": 84,
      "id": "7hu2PFKqoihN",
      "metadata": {
        "colab": {
          "base_uri": "https://localhost:8080/"
        },
        "id": "7hu2PFKqoihN",
        "outputId": "9501654a-8d93-4c04-d776-f6fd1931a909"
      },
      "outputs": [
        {
          "data": {
            "text/plain": [
              "<tf.Tensor: shape=(), dtype=int64, numpy=42>"
            ]
          },
          "execution_count": 84,
          "metadata": {},
          "output_type": "execute_result"
        }
      ],
      "source": [
        "# find the positional maximum\n",
        "tf.argmax(F)"
      ]
    },
    {
      "cell_type": "code",
      "execution_count": 85,
      "id": "9yZasJUXpXOI",
      "metadata": {
        "colab": {
          "base_uri": "https://localhost:8080/"
        },
        "id": "9yZasJUXpXOI",
        "outputId": "90ea8870-0082-423b-a294-97e99febe2ac"
      },
      "outputs": [
        {
          "data": {
            "text/plain": [
              "<tf.Tensor: shape=(), dtype=float32, numpy=0.9671384>"
            ]
          },
          "execution_count": 85,
          "metadata": {},
          "output_type": "execute_result"
        }
      ],
      "source": [
        "# Index on our largest value position\n",
        "F[tf.argmax(F)]"
      ]
    },
    {
      "cell_type": "code",
      "execution_count": 86,
      "id": "McQoK6KhprSt",
      "metadata": {
        "colab": {
          "base_uri": "https://localhost:8080/"
        },
        "id": "McQoK6KhprSt",
        "outputId": "b6d6cfe8-eee3-44e5-ff7a-69c26ee1a8d6"
      },
      "outputs": [
        {
          "data": {
            "text/plain": [
              "<tf.Tensor: shape=(), dtype=float32, numpy=0.9671384>"
            ]
          },
          "execution_count": 86,
          "metadata": {},
          "output_type": "execute_result"
        }
      ],
      "source": [
        "# Find max value of F\n",
        "tf.reduce_max(F)"
      ]
    },
    {
      "cell_type": "code",
      "execution_count": 87,
      "id": "75P1ldUAp43_",
      "metadata": {
        "id": "75P1ldUAp43_"
      },
      "outputs": [],
      "source": [
        "# check for equality\n",
        "assert F[tf.argmax(F)] == tf.reduce_max(F) # we use assert bcoz it will show error if they don't equal"
      ]
    },
    {
      "cell_type": "code",
      "execution_count": 88,
      "id": "C0OxyQDkqWSr",
      "metadata": {
        "colab": {
          "base_uri": "https://localhost:8080/"
        },
        "id": "C0OxyQDkqWSr",
        "outputId": "77bd04f4-c2c9-4fd2-8265-0cf195e7fde2"
      },
      "outputs": [
        {
          "data": {
            "text/plain": [
              "<tf.Tensor: shape=(), dtype=bool, numpy=True>"
            ]
          },
          "execution_count": 88,
          "metadata": {},
          "output_type": "execute_result"
        }
      ],
      "source": [
        "# so we get no error while we checking equality \n",
        "F[tf.argmax(F)] == tf.reduce_max(F)"
      ]
    },
    {
      "cell_type": "code",
      "execution_count": 89,
      "id": "xYidnNxPqvh1",
      "metadata": {
        "colab": {
          "base_uri": "https://localhost:8080/"
        },
        "id": "xYidnNxPqvh1",
        "outputId": "62f0ece1-9ba9-4d6f-a5bb-d0a10140600b"
      },
      "outputs": [
        {
          "data": {
            "text/plain": [
              "<tf.Tensor: shape=(), dtype=int64, numpy=16>"
            ]
          },
          "execution_count": 89,
          "metadata": {},
          "output_type": "execute_result"
        }
      ],
      "source": [
        "# finding the positional minimum\n",
        "tf.argmin(F)"
      ]
    },
    {
      "cell_type": "code",
      "execution_count": 90,
      "id": "xcHRoT0SrDr4",
      "metadata": {
        "colab": {
          "base_uri": "https://localhost:8080/"
        },
        "id": "xcHRoT0SrDr4",
        "outputId": "164f3c9d-a919-45bc-c165-bb92b666c6c5"
      },
      "outputs": [
        {
          "data": {
            "text/plain": [
              "<tf.Tensor: shape=(), dtype=float32, numpy=0.009463668>"
            ]
          },
          "execution_count": 90,
          "metadata": {},
          "output_type": "execute_result"
        }
      ],
      "source": [
        "F[tf.argmin(F)]"
      ]
    },
    {
      "cell_type": "code",
      "execution_count": 91,
      "id": "yOsgsMm1rGND",
      "metadata": {
        "colab": {
          "base_uri": "https://localhost:8080/"
        },
        "id": "yOsgsMm1rGND",
        "outputId": "c1da4a59-6bb8-4d02-f00d-2c1ced54befc"
      },
      "outputs": [
        {
          "data": {
            "text/plain": [
              "<tf.Tensor: shape=(), dtype=float32, numpy=0.009463668>"
            ]
          },
          "execution_count": 91,
          "metadata": {},
          "output_type": "execute_result"
        }
      ],
      "source": [
        "tf.reduce_min(F)"
      ]
    },
    {
      "cell_type": "code",
      "execution_count": 92,
      "id": "b1vRyBaKrSI7",
      "metadata": {
        "id": "b1vRyBaKrSI7"
      },
      "outputs": [],
      "source": [
        " assert F[tf.argmin(F)] == tf.reduce_min(F) # no error means both are equal"
      ]
    },
    {
      "cell_type": "code",
      "execution_count": 93,
      "id": "016319a5",
      "metadata": {},
      "outputs": [
        {
          "name": "stdout",
          "output_type": "stream",
          "text": [
            "2.11.0\n"
          ]
        }
      ],
      "source": [
        "print(tf.__version__)"
      ]
    },
    {
      "cell_type": "markdown",
      "id": "8J4i3uMKsGtm",
      "metadata": {
        "id": "8J4i3uMKsGtm"
      },
      "source": [
        "# Squeezing a tensor"
      ]
    },
    {
      "cell_type": "code",
      "execution_count": 94,
      "id": "RDZrj1x7sLNL",
      "metadata": {
        "id": "RDZrj1x7sLNL"
      },
      "outputs": [
        {
          "data": {
            "text/plain": [
              "<tf.Tensor: shape=(1, 1, 1, 1, 50), dtype=float32, numpy=\n",
              "array([[[[[0.6645621 , 0.44100678, 0.3528825 , 0.46448255, 0.03366041,\n",
              "           0.68467236, 0.74011743, 0.8724445 , 0.22632635, 0.22319686,\n",
              "           0.3103881 , 0.7223358 , 0.13318717, 0.5480639 , 0.5746088 ,\n",
              "           0.8996835 , 0.00946367, 0.5212307 , 0.6345445 , 0.1993283 ,\n",
              "           0.72942245, 0.54583454, 0.10756552, 0.6767061 , 0.6602763 ,\n",
              "           0.33695042, 0.60141766, 0.21062577, 0.8527372 , 0.44062173,\n",
              "           0.9485276 , 0.23752594, 0.81179297, 0.5263394 , 0.494308  ,\n",
              "           0.21612847, 0.8457197 , 0.8718841 , 0.3083862 , 0.6868038 ,\n",
              "           0.23764038, 0.7817228 , 0.9671384 , 0.06870162, 0.79873943,\n",
              "           0.66028714, 0.5871513 , 0.16461694, 0.7381023 , 0.32054043]]]]],\n",
              "      dtype=float32)>"
            ]
          },
          "execution_count": 94,
          "metadata": {},
          "output_type": "execute_result"
        }
      ],
      "source": [
        "# squezzing a tensor (removing all single dimensions)\n",
        "\n",
        "# create a tensor\n",
        "tf.random.set_seed(42)\n",
        "g = tf.constant(tf.random.uniform(shape = [50]), shape = (1, 1, 1, 1, 50))\n",
        "\n",
        "g"
      ]
    },
    {
      "cell_type": "code",
      "execution_count": 95,
      "id": "a6eac08d",
      "metadata": {},
      "outputs": [
        {
          "data": {
            "text/plain": [
              "TensorShape([1, 1, 1, 1, 50])"
            ]
          },
          "execution_count": 95,
          "metadata": {},
          "output_type": "execute_result"
        }
      ],
      "source": [
        "g.shape"
      ]
    },
    {
      "cell_type": "code",
      "execution_count": 96,
      "id": "594dc1f3",
      "metadata": {},
      "outputs": [
        {
          "data": {
            "text/plain": [
              "<tf.Tensor: shape=(50,), dtype=float32, numpy=\n",
              "array([0.6645621 , 0.44100678, 0.3528825 , 0.46448255, 0.03366041,\n",
              "       0.68467236, 0.74011743, 0.8724445 , 0.22632635, 0.22319686,\n",
              "       0.3103881 , 0.7223358 , 0.13318717, 0.5480639 , 0.5746088 ,\n",
              "       0.8996835 , 0.00946367, 0.5212307 , 0.6345445 , 0.1993283 ,\n",
              "       0.72942245, 0.54583454, 0.10756552, 0.6767061 , 0.6602763 ,\n",
              "       0.33695042, 0.60141766, 0.21062577, 0.8527372 , 0.44062173,\n",
              "       0.9485276 , 0.23752594, 0.81179297, 0.5263394 , 0.494308  ,\n",
              "       0.21612847, 0.8457197 , 0.8718841 , 0.3083862 , 0.6868038 ,\n",
              "       0.23764038, 0.7817228 , 0.9671384 , 0.06870162, 0.79873943,\n",
              "       0.66028714, 0.5871513 , 0.16461694, 0.7381023 , 0.32054043],\n",
              "      dtype=float32)>"
            ]
          },
          "execution_count": 96,
          "metadata": {},
          "output_type": "execute_result"
        }
      ],
      "source": [
        "g_sqeezed = tf.squeeze(g)\n",
        "\n",
        "g_sqeezed"
      ]
    },
    {
      "attachments": {},
      "cell_type": "markdown",
      "id": "3cd071db",
      "metadata": {},
      "source": [
        "One-hot encoding tensors"
      ]
    },
    {
      "cell_type": "code",
      "execution_count": 97,
      "id": "10989abc",
      "metadata": {},
      "outputs": [
        {
          "data": {
            "text/plain": [
              "<tf.Tensor: shape=(4, 4), dtype=float32, numpy=\n",
              "array([[1., 0., 0., 0.],\n",
              "       [0., 1., 0., 0.],\n",
              "       [0., 0., 1., 0.],\n",
              "       [0., 0., 0., 1.]], dtype=float32)>"
            ]
          },
          "execution_count": 97,
          "metadata": {},
          "output_type": "execute_result"
        }
      ],
      "source": [
        "# one-hot encoding is a form of numerical encoding\n",
        "\n",
        "# create a list of indices\n",
        "\n",
        "some_list = [0, 1, 2, 3] # could be red, green, blue, purple\n",
        "\n",
        "#one-hot encode the list of indices\n",
        "tf.one_hot(some_list, depth = 4) # we have 4 indices in some_list so we use depth = 4 so it will be 4 by 4"
      ]
    },
    {
      "cell_type": "code",
      "execution_count": 98,
      "id": "7f7c99f6",
      "metadata": {},
      "outputs": [
        {
          "data": {
            "text/plain": [
              "<tf.Tensor: shape=(4, 4), dtype=string, numpy=\n",
              "array([[b'I love deep learning', b'I also like to nlp',\n",
              "        b'I also like to nlp', b'I also like to nlp'],\n",
              "       [b'I also like to nlp', b'I love deep learning',\n",
              "        b'I also like to nlp', b'I also like to nlp'],\n",
              "       [b'I also like to nlp', b'I also like to nlp',\n",
              "        b'I love deep learning', b'I also like to nlp'],\n",
              "       [b'I also like to nlp', b'I also like to nlp',\n",
              "        b'I also like to nlp', b'I love deep learning']], dtype=object)>"
            ]
          },
          "execution_count": 98,
          "metadata": {},
          "output_type": "execute_result"
        }
      ],
      "source": [
        "# specify custom values for one-hot encoding\n",
        "tf.one_hot(some_list, depth = 4, on_value = \"I love deep learning\", off_value = \"I also like to nlp\")"
      ]
    },
    {
      "cell_type": "code",
      "execution_count": 99,
      "id": "83ab8b57",
      "metadata": {},
      "outputs": [
        {
          "data": {
            "text/plain": [
              "<tf.Tensor: shape=(4, 3), dtype=float32, numpy=\n",
              "array([[0., 1., 0.],\n",
              "       [0., 0., 1.],\n",
              "       [0., 0., 0.],\n",
              "       [0., 0., 0.]], dtype=float32)>"
            ]
          },
          "execution_count": 99,
          "metadata": {},
          "output_type": "execute_result"
        }
      ],
      "source": [
        "  # what if we give different depths\n",
        "\n",
        "z = [1, 2, 3, 4]\n",
        "tf.one_hot(z, depth = 3)"
      ]
    },
    {
      "cell_type": "code",
      "execution_count": 100,
      "id": "6cea9403",
      "metadata": {},
      "outputs": [
        {
          "data": {
            "text/plain": [
              "<tf.Tensor: shape=(4, 5), dtype=float32, numpy=\n",
              "array([[0., 1., 0., 0., 0.],\n",
              "       [0., 0., 1., 0., 0.],\n",
              "       [0., 0., 0., 1., 0.],\n",
              "       [0., 0., 0., 0., 1.]], dtype=float32)>"
            ]
          },
          "execution_count": 100,
          "metadata": {},
          "output_type": "execute_result"
        }
      ],
      "source": [
        "tf.one_hot(z, depth = 5)"
      ]
    },
    {
      "cell_type": "code",
      "execution_count": 101,
      "id": "a4ea08a3",
      "metadata": {},
      "outputs": [
        {
          "data": {
            "text/plain": [
              "<tf.Tensor: shape=(2, 2, 3), dtype=float32, numpy=\n",
              "array([[[1., 0., 0.],\n",
              "        [0., 0., 1.]],\n",
              "\n",
              "       [[0., 1., 0.],\n",
              "        [0., 0., 0.]]], dtype=float32)>"
            ]
          },
          "execution_count": 101,
          "metadata": {},
          "output_type": "execute_result"
        }
      ],
      "source": [
        "i = [[0, 2], [1, -1]]\n",
        "tf.one_hot(i, depth = 3)"
      ]
    },
    {
      "attachments": {},
      "cell_type": "markdown",
      "id": "aa665c54",
      "metadata": {},
      "source": [
        "SQUARING, LOG, SQUARE ROOT"
      ]
    },
    {
      "cell_type": "code",
      "execution_count": 102,
      "id": "63a5d39b",
      "metadata": {},
      "outputs": [
        {
          "data": {
            "text/plain": [
              "<tf.Tensor: shape=(9,), dtype=int32, numpy=array([1, 2, 3, 4, 5, 6, 7, 8, 9])>"
            ]
          },
          "execution_count": 102,
          "metadata": {},
          "output_type": "execute_result"
        }
      ],
      "source": [
        "# create a new tensor\n",
        "h = tf.range(1, 10)\n",
        "h"
      ]
    },
    {
      "cell_type": "code",
      "execution_count": 103,
      "id": "b6122b74",
      "metadata": {},
      "outputs": [
        {
          "data": {
            "text/plain": [
              "<tf.Tensor: shape=(9,), dtype=int32, numpy=array([ 1,  4,  9, 16, 25, 36, 49, 64, 81])>"
            ]
          },
          "execution_count": 103,
          "metadata": {},
          "output_type": "execute_result"
        }
      ],
      "source": [
        "# square it \n",
        "tf.square(h)"
      ]
    },
    {
      "cell_type": "code",
      "execution_count": 104,
      "id": "4cceaad3",
      "metadata": {},
      "outputs": [],
      "source": [
        "# square root # this method requires non-int types\n",
        "\n",
        "# tf.math.sqrt(h) # here we will get error bcoz it is in dtype = int32\n",
        "# we need dtypes like bfloat16, half, float, double, complex64, complex128 "
      ]
    },
    {
      "cell_type": "code",
      "execution_count": 105,
      "id": "9192185f",
      "metadata": {},
      "outputs": [
        {
          "data": {
            "text/plain": [
              "<tf.Tensor: shape=(9,), dtype=float32, numpy=\n",
              "array([1.       , 1.4142135, 1.7320508, 2.       , 2.236068 , 2.4494898,\n",
              "       2.6457512, 2.828427 , 3.       ], dtype=float32)>"
            ]
          },
          "execution_count": 105,
          "metadata": {},
          "output_type": "execute_result"
        }
      ],
      "source": [
        "tf.math.sqrt(tf.cast(h, dtype = tf.float32))"
      ]
    },
    {
      "cell_type": "code",
      "execution_count": 106,
      "id": "ff4cf3aa",
      "metadata": {},
      "outputs": [],
      "source": [
        "# find the log # for this method we need non-int types\n",
        "\n",
        "#tf.math.log(h) # here we will get error bcoz it is in dtype = int32\n",
        "# we need dtypes like bfloat16, half, float, double, complex64, complex128 "
      ]
    },
    {
      "cell_type": "code",
      "execution_count": 107,
      "id": "23410f2c",
      "metadata": {},
      "outputs": [
        {
          "data": {
            "text/plain": [
              "<tf.Tensor: shape=(9,), dtype=float32, numpy=\n",
              "array([0.       , 0.6931472, 1.0986123, 1.3862944, 1.609438 , 1.7917595,\n",
              "       1.9459102, 2.0794415, 2.1972246], dtype=float32)>"
            ]
          },
          "execution_count": 107,
          "metadata": {},
          "output_type": "execute_result"
        }
      ],
      "source": [
        "tf.math.log(tf.cast(h, dtype = tf.float32))"
      ]
    },
    {
      "attachments": {},
      "cell_type": "markdown",
      "id": "4dce6b88",
      "metadata": {},
      "source": [
        "Tensors and numpy\n",
        "\n",
        "Tensorflow interact beautifully with numpy arrays"
      ]
    },
    {
      "cell_type": "code",
      "execution_count": 108,
      "id": "8627c029",
      "metadata": {},
      "outputs": [
        {
          "data": {
            "text/plain": [
              "<tf.Tensor: shape=(3,), dtype=float64, numpy=array([ 3.,  7., 10.])>"
            ]
          },
          "execution_count": 108,
          "metadata": {},
          "output_type": "execute_result"
        }
      ],
      "source": [
        "# create a tensor directly from numpy array\n",
        "j = tf.constant(np.array([3., 7., 10.]))\n",
        "j"
      ]
    },
    {
      "cell_type": "code",
      "execution_count": 109,
      "id": "c9dbf8ee",
      "metadata": {},
      "outputs": [
        {
          "data": {
            "text/plain": [
              "(array([ 3.,  7., 10.]), numpy.ndarray)"
            ]
          },
          "execution_count": 109,
          "metadata": {},
          "output_type": "execute_result"
        }
      ],
      "source": [
        "# convert our tensor back to numpy array\n",
        "np.array(j), type(np.array(j))"
      ]
    },
    {
      "cell_type": "code",
      "execution_count": 110,
      "id": "5beba552",
      "metadata": {},
      "outputs": [
        {
          "data": {
            "text/plain": [
              "(array([ 3.,  7., 10.]), numpy.ndarray)"
            ]
          },
          "execution_count": 110,
          "metadata": {},
          "output_type": "execute_result"
        }
      ],
      "source": [
        "# conert tensor j to a numpy array\n",
        "j.numpy(), type(j.numpy())"
      ]
    },
    {
      "cell_type": "code",
      "execution_count": 111,
      "id": "b36830d7",
      "metadata": {},
      "outputs": [
        {
          "data": {
            "text/plain": [
              "3.0"
            ]
          },
          "execution_count": 111,
          "metadata": {},
          "output_type": "execute_result"
        }
      ],
      "source": [
        "j = tf.constant([3.])\n",
        "j.numpy()[0]"
      ]
    },
    {
      "cell_type": "code",
      "execution_count": 113,
      "id": "5aba57c5",
      "metadata": {},
      "outputs": [
        {
          "data": {
            "text/plain": [
              "(tf.float64, tf.float32)"
            ]
          },
          "execution_count": 113,
          "metadata": {},
          "output_type": "execute_result"
        }
      ],
      "source": [
        "# The default types of each are slightly different\n",
        "numpy_j = tf.constant(np.array([3., 7., 10.]))\n",
        "tensor_j = tf.constant([3., 7., 10.])\n",
        "numpy_j.dtype, tensor_j.dtype"
      ]
    },
    {
      "cell_type": "code",
      "execution_count": null,
      "id": "779bded7",
      "metadata": {},
      "outputs": [],
      "source": []
    }
  ],
  "metadata": {
    "colab": {
      "provenance": []
    },
    "gpuClass": "standard",
    "kernelspec": {
      "display_name": "Python 3.8 (tensorflow)",
      "language": "python",
      "name": "tensorflow"
    },
    "language_info": {
      "codemirror_mode": {
        "name": "ipython",
        "version": 3
      },
      "file_extension": ".py",
      "mimetype": "text/x-python",
      "name": "python",
      "nbconvert_exporter": "python",
      "pygments_lexer": "ipython3",
      "version": "3.8.0"
    },
    "vscode": {
      "interpreter": {
        "hash": "f7f7e64e47ed3ad1e28929cdbca1c8dc284704a8d0c20af87a9d41f3432827f5"
      }
    }
  },
  "nbformat": 4,
  "nbformat_minor": 5
}
